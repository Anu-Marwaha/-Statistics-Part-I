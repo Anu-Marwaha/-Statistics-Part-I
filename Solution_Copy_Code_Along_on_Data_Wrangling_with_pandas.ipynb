{
  "nbformat": 4,
  "nbformat_minor": 0,
  "metadata": {
    "celltoolbar": "Slideshow",
    "kernelspec": {
      "display_name": "Python 3",
      "language": "python",
      "name": "python3"
    },
    "language_info": {
      "codemirror_mode": {
        "name": "ipython",
        "version": 3
      },
      "file_extension": ".py",
      "mimetype": "text/x-python",
      "name": "python",
      "nbconvert_exporter": "python",
      "pygments_lexer": "ipython3",
      "version": "3.7.1"
    },
    "toc": {
      "colors": {
        "hover_highlight": "#DAA520",
        "running_highlight": "#FF0000",
        "selected_highlight": "#FFD700"
      },
      "moveMenuLeft": true,
      "nav_menu": {
        "height": "364px",
        "width": "252px"
      },
      "navigate_menu": true,
      "number_sections": true,
      "sideBar": true,
      "threshold": "2",
      "toc_cell": false,
      "toc_section_display": "block",
      "toc_window_display": false
    },
    "colab": {
      "name": "Solution Copy Code Along on Data_Wrangling_with_pandas.ipynb",
      "provenance": [],
      "collapsed_sections": [],
      "include_colab_link": true
    }
  },
  "cells": [
    {
      "cell_type": "markdown",
      "metadata": {
        "id": "view-in-github",
        "colab_type": "text"
      },
      "source": [
        "<a href=\"https://colab.research.google.com/github/rkkirpane/-Statistics-Part-I/blob/master/Solution_Copy_Code_Along_on_Data_Wrangling_with_pandas.ipynb\" target=\"_parent\"><img src=\"https://colab.research.google.com/assets/colab-badge.svg\" alt=\"Open In Colab\"/></a>"
      ]
    },
    {
      "cell_type": "markdown",
      "metadata": {
        "id": "TlE4hNLSjVet",
        "colab_type": "text"
      },
      "source": [
        "# Data Wrangling with Pandas"
      ]
    },
    {
      "cell_type": "markdown",
      "metadata": {
        "id": "qfM11LRsjVew",
        "colab_type": "text"
      },
      "source": [
        "<img src=\"../images/python_pandas.jpg\" alt=\"Python\" style=\"width: 400px;\"/>"
      ]
    },
    {
      "cell_type": "markdown",
      "metadata": {
        "id": "EmxFkn-BjVey",
        "colab_type": "text"
      },
      "source": [
        "# Program so far \n",
        "\n",
        "***\n",
        "\n",
        "- Python Basics\n",
        "- Python Programming Constructs\n",
        "- Data Structures\n",
        "- Functions\n",
        "- Object Oriented Programming in Python\n",
        "- NumPy\n",
        "- Pandas"
      ]
    },
    {
      "cell_type": "markdown",
      "metadata": {
        "id": "DcCwW5BijVe0",
        "colab_type": "text"
      },
      "source": [
        "# The Weather Dataset: Reading DataFrames from Files\n",
        "***\n",
        "The Weather Dataset is a time-series data set with per-hour information about the weather conditions at a particular location. It records Temperature, Dew Point Temperature, Relative Humidity, Wind Speed, Visibility, Pressure, and Conditions.\n",
        "\n",
        "<img src=\"../images/weather.jpg\" alt=\"Weather\" style=\"width: 200px;\"/>\n",
        "\n",
        "This data is available as a CSV file. We are going to use Pandas DataFrames and analyse this dataset.\n"
      ]
    },
    {
      "cell_type": "code",
      "metadata": {
        "id": "zW8EoszwuYig",
        "colab_type": "code",
        "colab": {}
      },
      "source": [
        ""
      ],
      "execution_count": null,
      "outputs": []
    },
    {
      "cell_type": "code",
      "metadata": {
        "id": "4algJ2hduZCE",
        "colab_type": "code",
        "colab": {}
      },
      "source": [
        ""
      ],
      "execution_count": null,
      "outputs": []
    },
    {
      "cell_type": "code",
      "metadata": {
        "id": "CUe0SOTQuZgn",
        "colab_type": "code",
        "colab": {}
      },
      "source": [
        ""
      ],
      "execution_count": null,
      "outputs": []
    },
    {
      "cell_type": "code",
      "metadata": {
        "ExecuteTime": {
          "end_time": "2017-09-25T09:11:22.400390Z",
          "start_time": "2017-09-25T09:11:22.342923Z"
        },
        "scrolled": false,
        "id": "2erFNyomjVe1",
        "colab_type": "code",
        "colab": {
          "base_uri": "https://localhost:8080/",
          "height": 185
        },
        "outputId": "d4dbb2bd-cfab-413c-a993-e8bd47be8dfc"
      },
      "source": [
        "# Read the data into a data frame\n",
        "import pandas as pd\n",
        "url=\"https://raw.githubusercontent.com/rkkirpane/APT-DATA/master/-Statistics-Part-I-master/weather_2012.csv\"\n",
        "weather_df = pd.read_csv(url) \n",
        " \n",
        "print(\"Shape:\", weather_df.shape)\n",
        "print(\"Index:\", weather_df.index)\n",
        "print(weather_df.head(5))"
      ],
      "execution_count": null,
      "outputs": [
        {
          "output_type": "stream",
          "text": [
            "Shape: (8784, 8)\n",
            "Index: RangeIndex(start=0, stop=8784, step=1)\n",
            "             Date/Time  Temp (C)  ...  Stn Press (kPa)               Weather\n",
            "0  2012-01-01 00:00:00      -1.8  ...           101.24                   Fog\n",
            "1  2012-01-01 01:00:00      -1.8  ...           101.24                   Fog\n",
            "2  2012-01-01 02:00:00      -1.8  ...           101.26  Freezing Drizzle,Fog\n",
            "3  2012-01-01 03:00:00      -1.5  ...           101.27  Freezing Drizzle,Fog\n",
            "4  2012-01-01 04:00:00      -1.5  ...           101.23                   Fog\n",
            "\n",
            "[5 rows x 8 columns]\n"
          ],
          "name": "stdout"
        }
      ]
    },
    {
      "cell_type": "markdown",
      "metadata": {
        "ExecuteTime": {
          "end_time": "2017-09-22T12:41:32.876489Z",
          "start_time": "2017-09-22T12:41:32.860307Z"
        },
        "id": "Ku6t4dXdjVe_",
        "colab_type": "text"
      },
      "source": [
        "<img src=\"../images/icon/ppt-icons.png\" alt=\"mini project\n",
        "\" style=\"width: 100px;float:left; margin-right:15px\"/>\n",
        "<br /> \n",
        "\n",
        "## Mini - Challenge - 1\n",
        "***\n",
        "### Instructions\n",
        "* Find all the unique Wind Speed values recorded in the dataset"
      ]
    },
    {
      "cell_type": "code",
      "metadata": {
        "ExecuteTime": {
          "end_time": "2017-09-22T13:28:59.183183Z",
          "start_time": "2017-09-22T13:28:59.177614Z"
        },
        "id": "4fB_80-OjVfA",
        "colab_type": "code",
        "colab": {
          "base_uri": "https://localhost:8080/",
          "height": 50
        },
        "outputId": "0d9a5985-2c7e-4400-8b7f-3ba2c9fdd546"
      },
      "source": [
        "# Code your solution here\n",
        "weather_df[\"Wind Spd (km/h)\"].unique()"
      ],
      "execution_count": null,
      "outputs": [
        {
          "output_type": "execute_result",
          "data": {
            "text/plain": [
              "array([ 4,  7,  6,  9, 15, 13, 20, 22, 19, 24, 30, 35, 39, 32, 33, 26, 44,\n",
              "       43, 48, 37, 28, 17, 11,  0, 83, 70, 57, 46, 41, 52, 50, 63, 54,  2])"
            ]
          },
          "metadata": {
            "tags": []
          },
          "execution_count": 95
        }
      ]
    },
    {
      "cell_type": "markdown",
      "metadata": {
        "ExecuteTime": {
          "end_time": "2017-09-22T12:41:32.876489Z",
          "start_time": "2017-09-22T12:41:32.860307Z"
        },
        "id": "uweEHbHbjVfF",
        "colab_type": "text"
      },
      "source": [
        "<img src=\"../images/icon/ppt-icons.png\" alt=\"mini project\n",
        "\" style=\"width: 100px;float:left; margin-right:15px\"/>\n",
        "<br /> \n",
        "\n",
        "## Mini-Challenge - 2\n",
        "***\n",
        "### Instructions\n",
        "* Find the number of times when the weather was exactly 'Clear'"
      ]
    },
    {
      "cell_type": "markdown",
      "metadata": {
        "ExecuteTime": {
          "end_time": "2017-09-22T12:50:14.384725Z",
          "start_time": "2017-09-22T12:50:14.374665Z"
        },
        "id": "Fq0mkrrSjVfG",
        "colab_type": "text"
      },
      "source": [
        "<img src=\"../images/icon/Technical-Stuff.png\" alt=\"Technical-Stuff\" style=\"width: 100px;float:left; margin-right:15px\"/>\n",
        "<br /> \n",
        "\n",
        "### How can we get the count for Clear ?\n",
        "***\n",
        "\n",
        "In order to get only the number of times when the weather was exactly 'Clear' , we need to used Square brackets after `.value_counts` \n",
        "eg. `.value_counts()[3]`"
      ]
    },
    {
      "cell_type": "code",
      "metadata": {
        "id": "OlsxY3jAjVfG",
        "colab_type": "code",
        "colab": {
          "base_uri": "https://localhost:8080/",
          "height": 34
        },
        "outputId": "c1cfe597-4bf6-4ce3-dcb1-146b5940c4dd"
      },
      "source": [
        "# code your solution\n",
        "weather_df[\"Weather\"].value_counts()['Clear']"
      ],
      "execution_count": null,
      "outputs": [
        {
          "output_type": "execute_result",
          "data": {
            "text/plain": [
              "1326"
            ]
          },
          "metadata": {
            "tags": []
          },
          "execution_count": 96
        }
      ]
    },
    {
      "cell_type": "markdown",
      "metadata": {
        "ExecuteTime": {
          "end_time": "2017-09-22T12:41:32.876489Z",
          "start_time": "2017-09-22T12:41:32.860307Z"
        },
        "id": "Nd5JD2skjVfL",
        "colab_type": "text"
      },
      "source": [
        "<img src=\"../images/icon/ppt-icons.png\" alt=\"mini project\n",
        "\" style=\"width: 100px;float:left; margin-right:15px\"/>\n",
        "<br /> \n",
        "\n",
        "## Mini-Challenge - 3\n",
        "***\n",
        "**Try one more time..!!**\n",
        "### Instructions\n",
        "* Find the number of times when the wind speed was exactly 4 km/h\n"
      ]
    },
    {
      "cell_type": "code",
      "metadata": {
        "ExecuteTime": {
          "end_time": "2017-09-22T13:28:59.183183Z",
          "start_time": "2017-09-22T13:28:59.177614Z"
        },
        "id": "E-8CaZ6XjVfL",
        "colab_type": "code",
        "colab": {
          "base_uri": "https://localhost:8080/",
          "height": 34
        },
        "outputId": "4122170f-d601-4cd9-b3a0-d3bacf068be8"
      },
      "source": [
        "# Your solution here\n",
        "weather_df[\"Wind Spd (km/h)\"].value_counts()[4]"
      ],
      "execution_count": null,
      "outputs": [
        {
          "output_type": "execute_result",
          "data": {
            "text/plain": [
              "474"
            ]
          },
          "metadata": {
            "tags": []
          },
          "execution_count": 97
        }
      ]
    },
    {
      "cell_type": "markdown",
      "metadata": {
        "ExecuteTime": {
          "end_time": "2017-09-22T12:41:32.876489Z",
          "start_time": "2017-09-22T12:41:32.860307Z"
        },
        "id": "PKeOdtDyjVfQ",
        "colab_type": "text"
      },
      "source": [
        "<img src=\"../images/icon/ppt-icons.png\" alt=\"mini project\n",
        "\" style=\"width: 100px;float:left; margin-right:15px\"/>\n",
        "<br /> \n",
        "\n",
        "## Mini-Challenge - 4\n",
        "***\n",
        "### Instructions\n",
        "* Get the first 3 alternating rows from the `weather_df` dataframe, but only the Visibility and Relative Humidity columns\n"
      ]
    },
    {
      "cell_type": "code",
      "metadata": {
        "id": "yzExgAzFjVfQ",
        "colab_type": "code",
        "colab": {
          "base_uri": "https://localhost:8080/",
          "height": 136
        },
        "outputId": "54f71b53-4136-4c8f-9289-c88511c7c859"
      },
      "source": [
        "# Using loc or iloc\n",
        "# NOTE: slice is `:5:2`, not 6 !\n",
        "# first indexing\n",
        "df1 = weather_df[:5:2]\n",
        "\n",
        "# second indexing\n",
        "df2 = df1[['Rel Hum (%)', 'Visibility (km)']]\n",
        "df2"
      ],
      "execution_count": null,
      "outputs": [
        {
          "output_type": "execute_result",
          "data": {
            "text/html": [
              "<div>\n",
              "<style scoped>\n",
              "    .dataframe tbody tr th:only-of-type {\n",
              "        vertical-align: middle;\n",
              "    }\n",
              "\n",
              "    .dataframe tbody tr th {\n",
              "        vertical-align: top;\n",
              "    }\n",
              "\n",
              "    .dataframe thead th {\n",
              "        text-align: right;\n",
              "    }\n",
              "</style>\n",
              "<table border=\"1\" class=\"dataframe\">\n",
              "  <thead>\n",
              "    <tr style=\"text-align: right;\">\n",
              "      <th></th>\n",
              "      <th>Rel Hum (%)</th>\n",
              "      <th>Visibility (km)</th>\n",
              "    </tr>\n",
              "  </thead>\n",
              "  <tbody>\n",
              "    <tr>\n",
              "      <th>0</th>\n",
              "      <td>86</td>\n",
              "      <td>8.0</td>\n",
              "    </tr>\n",
              "    <tr>\n",
              "      <th>2</th>\n",
              "      <td>89</td>\n",
              "      <td>4.0</td>\n",
              "    </tr>\n",
              "    <tr>\n",
              "      <th>4</th>\n",
              "      <td>88</td>\n",
              "      <td>4.8</td>\n",
              "    </tr>\n",
              "  </tbody>\n",
              "</table>\n",
              "</div>"
            ],
            "text/plain": [
              "   Rel Hum (%)  Visibility (km)\n",
              "0           86              8.0\n",
              "2           89              4.0\n",
              "4           88              4.8"
            ]
          },
          "metadata": {
            "tags": []
          },
          "execution_count": 98
        }
      ]
    },
    {
      "cell_type": "markdown",
      "metadata": {
        "id": "ZYE_Ro1WjVfV",
        "colab_type": "text"
      },
      "source": [
        "<img src=\"../images/icon/Concept-Alert.png\" alt=\"Concept-Alert\" style=\"width: 100px;float:left; margin-right:15px\"/>\n",
        "<br /> \n",
        "\n",
        "## Filtering\n",
        "***\n",
        "\n",
        "![Filter](../images/filters1.jpg)\n",
        "Image Source:https://pixabay.com/en/yashica-filter-camera-vintage-711794/\n",
        "<br/>\n",
        "\n",
        "Anything that takes in data, processes it, and provides an output\n",
        "\n",
        "Input Data ⟶ Filter ⟶ Output Data\n",
        "\n",
        "Filtering rows of a DataFrame is an almost mandatory task for Data Analysis with Python. Given a Data Frame, we may not be interested in the entire dataset but only in specific rows."
      ]
    },
    {
      "cell_type": "markdown",
      "metadata": {
        "ExecuteTime": {
          "end_time": "2017-09-22T12:41:32.876489Z",
          "start_time": "2017-09-22T12:41:32.860307Z"
        },
        "id": "OiOW2DE6jVfW",
        "colab_type": "text"
      },
      "source": [
        "### Instructions\n",
        "* Access `Weather` column of dataframe and apply `.lower()` function and then apply `.contains()` by passing parameter as `rain` and save it as `snowed_filter`\n",
        "* This will provide you boolean values to get the data pass the `snowed_filter` into dataframe `weather_df`\n",
        "***\n",
        "Whether or not it rain can be found out using the Weather column.\n",
        "\n",
        "Note that this routine does not filter a dataframe on its contents. The filter is applied to the labels of the index."
      ]
    },
    {
      "cell_type": "code",
      "metadata": {
        "id": "mJNnZRPqjVfW",
        "colab_type": "code",
        "colab": {
          "base_uri": "https://localhost:8080/",
          "height": 302
        },
        "outputId": "ab83f65b-4dd0-499a-a1de-265a16cc3841"
      },
      "source": [
        "weather_df['Weather'].unique()"
      ],
      "execution_count": null,
      "outputs": [
        {
          "output_type": "execute_result",
          "data": {
            "text/plain": [
              "array(['Fog', 'Freezing Drizzle,Fog', 'Mostly Cloudy', 'Cloudy', 'Rain',\n",
              "       'Rain Showers', 'Mainly Clear', 'Snow Showers', 'Snow', 'Clear',\n",
              "       'Freezing Rain,Fog', 'Freezing Rain', 'Freezing Drizzle',\n",
              "       'Rain,Snow', 'Moderate Snow', 'Freezing Drizzle,Snow',\n",
              "       'Freezing Rain,Snow Grains', 'Snow,Blowing Snow', 'Freezing Fog',\n",
              "       'Haze', 'Rain,Fog', 'Drizzle,Fog', 'Drizzle',\n",
              "       'Freezing Drizzle,Haze', 'Freezing Rain,Haze', 'Snow,Haze',\n",
              "       'Snow,Fog', 'Snow,Ice Pellets', 'Rain,Haze', 'Thunderstorms,Rain',\n",
              "       'Thunderstorms,Rain Showers', 'Thunderstorms,Heavy Rain Showers',\n",
              "       'Thunderstorms,Rain Showers,Fog', 'Thunderstorms',\n",
              "       'Thunderstorms,Rain,Fog',\n",
              "       'Thunderstorms,Moderate Rain Showers,Fog', 'Rain Showers,Fog',\n",
              "       'Rain Showers,Snow Showers', 'Snow Pellets', 'Rain,Snow,Fog',\n",
              "       'Moderate Rain,Fog', 'Freezing Rain,Ice Pellets,Fog',\n",
              "       'Drizzle,Ice Pellets,Fog', 'Drizzle,Snow', 'Rain,Ice Pellets',\n",
              "       'Drizzle,Snow,Fog', 'Rain,Snow Grains', 'Rain,Snow,Ice Pellets',\n",
              "       'Snow Showers,Fog', 'Moderate Snow,Blowing Snow'], dtype=object)"
            ]
          },
          "metadata": {
            "tags": []
          },
          "execution_count": 99
        }
      ]
    },
    {
      "cell_type": "code",
      "metadata": {
        "id": "w__lIcf8jVfa",
        "colab_type": "code",
        "colab": {
          "base_uri": "https://localhost:8080/",
          "height": 195
        },
        "outputId": "e203a4f1-7088-4f5e-cf04-7dfedfa3f3f3"
      },
      "source": [
        "# Basically, we want a way to \"filter out\" records that  have the word \"snow\" (case insensitive) in the last column\n",
        "\n",
        "snowed_filter = weather_df['Weather'].str.lower().str.contains('rain')\n",
        "weather_df[snowed_filter].head()"
      ],
      "execution_count": null,
      "outputs": [
        {
          "output_type": "execute_result",
          "data": {
            "text/html": [
              "<div>\n",
              "<style scoped>\n",
              "    .dataframe tbody tr th:only-of-type {\n",
              "        vertical-align: middle;\n",
              "    }\n",
              "\n",
              "    .dataframe tbody tr th {\n",
              "        vertical-align: top;\n",
              "    }\n",
              "\n",
              "    .dataframe thead th {\n",
              "        text-align: right;\n",
              "    }\n",
              "</style>\n",
              "<table border=\"1\" class=\"dataframe\">\n",
              "  <thead>\n",
              "    <tr style=\"text-align: right;\">\n",
              "      <th></th>\n",
              "      <th>Date/Time</th>\n",
              "      <th>Temp (C)</th>\n",
              "      <th>Dew Point Temp (C)</th>\n",
              "      <th>Rel Hum (%)</th>\n",
              "      <th>Wind Spd (km/h)</th>\n",
              "      <th>Visibility (km)</th>\n",
              "      <th>Stn Press (kPa)</th>\n",
              "      <th>Weather</th>\n",
              "    </tr>\n",
              "  </thead>\n",
              "  <tbody>\n",
              "    <tr>\n",
              "      <th>18</th>\n",
              "      <td>2012-01-01 18:00:00</td>\n",
              "      <td>3.8</td>\n",
              "      <td>1.0</td>\n",
              "      <td>82</td>\n",
              "      <td>15</td>\n",
              "      <td>12.9</td>\n",
              "      <td>99.74</td>\n",
              "      <td>Rain</td>\n",
              "    </tr>\n",
              "    <tr>\n",
              "      <th>19</th>\n",
              "      <td>2012-01-01 19:00:00</td>\n",
              "      <td>3.1</td>\n",
              "      <td>1.3</td>\n",
              "      <td>88</td>\n",
              "      <td>15</td>\n",
              "      <td>12.9</td>\n",
              "      <td>99.68</td>\n",
              "      <td>Rain</td>\n",
              "    </tr>\n",
              "    <tr>\n",
              "      <th>22</th>\n",
              "      <td>2012-01-01 22:00:00</td>\n",
              "      <td>4.4</td>\n",
              "      <td>1.9</td>\n",
              "      <td>84</td>\n",
              "      <td>24</td>\n",
              "      <td>19.3</td>\n",
              "      <td>99.32</td>\n",
              "      <td>Rain Showers</td>\n",
              "    </tr>\n",
              "    <tr>\n",
              "      <th>24</th>\n",
              "      <td>2012-01-02 00:00:00</td>\n",
              "      <td>5.2</td>\n",
              "      <td>1.5</td>\n",
              "      <td>77</td>\n",
              "      <td>35</td>\n",
              "      <td>25.0</td>\n",
              "      <td>99.26</td>\n",
              "      <td>Rain Showers</td>\n",
              "    </tr>\n",
              "    <tr>\n",
              "      <th>153</th>\n",
              "      <td>2012-01-07 09:00:00</td>\n",
              "      <td>-6.1</td>\n",
              "      <td>-8.7</td>\n",
              "      <td>82</td>\n",
              "      <td>7</td>\n",
              "      <td>9.7</td>\n",
              "      <td>100.15</td>\n",
              "      <td>Freezing Rain,Fog</td>\n",
              "    </tr>\n",
              "  </tbody>\n",
              "</table>\n",
              "</div>"
            ],
            "text/plain": [
              "               Date/Time  Temp (C)  ...  Stn Press (kPa)            Weather\n",
              "18   2012-01-01 18:00:00       3.8  ...            99.74               Rain\n",
              "19   2012-01-01 19:00:00       3.1  ...            99.68               Rain\n",
              "22   2012-01-01 22:00:00       4.4  ...            99.32       Rain Showers\n",
              "24   2012-01-02 00:00:00       5.2  ...            99.26       Rain Showers\n",
              "153  2012-01-07 09:00:00      -6.1  ...           100.15  Freezing Rain,Fog\n",
              "\n",
              "[5 rows x 8 columns]"
            ]
          },
          "metadata": {
            "tags": []
          },
          "execution_count": 100
        }
      ]
    },
    {
      "cell_type": "markdown",
      "metadata": {
        "ExecuteTime": {
          "end_time": "2017-09-22T12:41:32.876489Z",
          "start_time": "2017-09-22T12:41:32.860307Z"
        },
        "id": "SJvEoddSjVfe",
        "colab_type": "text"
      },
      "source": [
        "###  Instructions\n",
        "* Find all instances when wind speed was above 35 and visibility was 25 and sve it as `df` and print it."
      ]
    },
    {
      "cell_type": "code",
      "metadata": {
        "id": "eYmCL-0kjVff",
        "colab_type": "code",
        "colab": {
          "base_uri": "https://localhost:8080/",
          "height": 195
        },
        "outputId": "2a46f58c-6fa0-4e3f-d28f-77e93943262b"
      },
      "source": [
        "df = weather_df[(weather_df['Wind Spd (km/h)'] > 35) & (weather_df['Visibility (km)']== 25)]\n",
        "df.head()"
      ],
      "execution_count": null,
      "outputs": [
        {
          "output_type": "execute_result",
          "data": {
            "text/html": [
              "<div>\n",
              "<style scoped>\n",
              "    .dataframe tbody tr th:only-of-type {\n",
              "        vertical-align: middle;\n",
              "    }\n",
              "\n",
              "    .dataframe tbody tr th {\n",
              "        vertical-align: top;\n",
              "    }\n",
              "\n",
              "    .dataframe thead th {\n",
              "        text-align: right;\n",
              "    }\n",
              "</style>\n",
              "<table border=\"1\" class=\"dataframe\">\n",
              "  <thead>\n",
              "    <tr style=\"text-align: right;\">\n",
              "      <th></th>\n",
              "      <th>Date/Time</th>\n",
              "      <th>Temp (C)</th>\n",
              "      <th>Dew Point Temp (C)</th>\n",
              "      <th>Rel Hum (%)</th>\n",
              "      <th>Wind Spd (km/h)</th>\n",
              "      <th>Visibility (km)</th>\n",
              "      <th>Stn Press (kPa)</th>\n",
              "      <th>Weather</th>\n",
              "    </tr>\n",
              "  </thead>\n",
              "  <tbody>\n",
              "    <tr>\n",
              "      <th>25</th>\n",
              "      <td>2012-01-02 01:00:00</td>\n",
              "      <td>4.6</td>\n",
              "      <td>0.0</td>\n",
              "      <td>72</td>\n",
              "      <td>39</td>\n",
              "      <td>25.0</td>\n",
              "      <td>99.26</td>\n",
              "      <td>Cloudy</td>\n",
              "    </tr>\n",
              "    <tr>\n",
              "      <th>409</th>\n",
              "      <td>2012-01-18 01:00:00</td>\n",
              "      <td>3.7</td>\n",
              "      <td>-2.1</td>\n",
              "      <td>66</td>\n",
              "      <td>83</td>\n",
              "      <td>25.0</td>\n",
              "      <td>98.36</td>\n",
              "      <td>Mostly Cloudy</td>\n",
              "    </tr>\n",
              "    <tr>\n",
              "      <th>410</th>\n",
              "      <td>2012-01-18 02:00:00</td>\n",
              "      <td>0.5</td>\n",
              "      <td>-4.0</td>\n",
              "      <td>72</td>\n",
              "      <td>70</td>\n",
              "      <td>25.0</td>\n",
              "      <td>98.62</td>\n",
              "      <td>Mostly Cloudy</td>\n",
              "    </tr>\n",
              "    <tr>\n",
              "      <th>411</th>\n",
              "      <td>2012-01-18 03:00:00</td>\n",
              "      <td>-3.5</td>\n",
              "      <td>-8.2</td>\n",
              "      <td>70</td>\n",
              "      <td>57</td>\n",
              "      <td>25.0</td>\n",
              "      <td>99.00</td>\n",
              "      <td>Mostly Cloudy</td>\n",
              "    </tr>\n",
              "    <tr>\n",
              "      <th>412</th>\n",
              "      <td>2012-01-18 04:00:00</td>\n",
              "      <td>-6.1</td>\n",
              "      <td>-10.9</td>\n",
              "      <td>69</td>\n",
              "      <td>48</td>\n",
              "      <td>25.0</td>\n",
              "      <td>99.36</td>\n",
              "      <td>Snow</td>\n",
              "    </tr>\n",
              "  </tbody>\n",
              "</table>\n",
              "</div>"
            ],
            "text/plain": [
              "               Date/Time  Temp (C)  ...  Stn Press (kPa)        Weather\n",
              "25   2012-01-02 01:00:00       4.6  ...            99.26         Cloudy\n",
              "409  2012-01-18 01:00:00       3.7  ...            98.36  Mostly Cloudy\n",
              "410  2012-01-18 02:00:00       0.5  ...            98.62  Mostly Cloudy\n",
              "411  2012-01-18 03:00:00      -3.5  ...            99.00  Mostly Cloudy\n",
              "412  2012-01-18 04:00:00      -6.1  ...            99.36           Snow\n",
              "\n",
              "[5 rows x 8 columns]"
            ]
          },
          "metadata": {
            "tags": []
          },
          "execution_count": 101
        }
      ]
    },
    {
      "cell_type": "markdown",
      "metadata": {
        "id": "vG6MWuuYjVfj",
        "colab_type": "text"
      },
      "source": [
        "<img src=\"../images/icon/Technical-Stuff.png\" alt=\"Concept-Alert\" style=\"width: 100px;float:left; margin-right:15px\"/>\n",
        "<br /> \n",
        "\n",
        "# Pivot Tables : Excellent way to Summarize your Data!\n",
        "***\n",
        "- A pivot table is a tool that allows you to reorganize and summarize selected columns and rows of data in a dataframe <br/><br/>\n",
        "\n",
        "- Pivot tables provide an easy way to subset by one column and then apply a calculation like a sum or a mean <br/><br/>\n",
        "\n",
        "- Pivot tables first groups and only then applies a calculation"
      ]
    },
    {
      "cell_type": "markdown",
      "metadata": {
        "id": "QAzNDlf0jVfj",
        "colab_type": "text"
      },
      "source": [
        "### Instructions\n",
        "* A dictionary containing data is already defined in the variable `data`.\n",
        "* Create a dataframe using dictionary `data` and save it as `df`\n",
        "* Print the `df`"
      ]
    },
    {
      "cell_type": "code",
      "metadata": {
        "id": "6o3D9HsbjVfk",
        "colab_type": "code",
        "colab": {
          "base_uri": "https://localhost:8080/",
          "height": 225
        },
        "outputId": "6543f39a-2245-404e-b284-aea4560a5b79"
      },
      "source": [
        "data = {\n",
        "    'A': ['foo','foo','foo','bar','bar','bar'],\n",
        "    'B': ['one','one','two','two','one','one'],\n",
        "    'C': ['x','y','x','y','x','y'],\n",
        "    'D': [1, 3, 2, 5, 4, 1]\n",
        "}\n",
        "\n",
        "df = pd.DataFrame(data)\n",
        "df"
      ],
      "execution_count": null,
      "outputs": [
        {
          "output_type": "execute_result",
          "data": {
            "text/html": [
              "<div>\n",
              "<style scoped>\n",
              "    .dataframe tbody tr th:only-of-type {\n",
              "        vertical-align: middle;\n",
              "    }\n",
              "\n",
              "    .dataframe tbody tr th {\n",
              "        vertical-align: top;\n",
              "    }\n",
              "\n",
              "    .dataframe thead th {\n",
              "        text-align: right;\n",
              "    }\n",
              "</style>\n",
              "<table border=\"1\" class=\"dataframe\">\n",
              "  <thead>\n",
              "    <tr style=\"text-align: right;\">\n",
              "      <th></th>\n",
              "      <th>A</th>\n",
              "      <th>B</th>\n",
              "      <th>C</th>\n",
              "      <th>D</th>\n",
              "    </tr>\n",
              "  </thead>\n",
              "  <tbody>\n",
              "    <tr>\n",
              "      <th>0</th>\n",
              "      <td>foo</td>\n",
              "      <td>one</td>\n",
              "      <td>x</td>\n",
              "      <td>1</td>\n",
              "    </tr>\n",
              "    <tr>\n",
              "      <th>1</th>\n",
              "      <td>foo</td>\n",
              "      <td>one</td>\n",
              "      <td>y</td>\n",
              "      <td>3</td>\n",
              "    </tr>\n",
              "    <tr>\n",
              "      <th>2</th>\n",
              "      <td>foo</td>\n",
              "      <td>two</td>\n",
              "      <td>x</td>\n",
              "      <td>2</td>\n",
              "    </tr>\n",
              "    <tr>\n",
              "      <th>3</th>\n",
              "      <td>bar</td>\n",
              "      <td>two</td>\n",
              "      <td>y</td>\n",
              "      <td>5</td>\n",
              "    </tr>\n",
              "    <tr>\n",
              "      <th>4</th>\n",
              "      <td>bar</td>\n",
              "      <td>one</td>\n",
              "      <td>x</td>\n",
              "      <td>4</td>\n",
              "    </tr>\n",
              "    <tr>\n",
              "      <th>5</th>\n",
              "      <td>bar</td>\n",
              "      <td>one</td>\n",
              "      <td>y</td>\n",
              "      <td>1</td>\n",
              "    </tr>\n",
              "  </tbody>\n",
              "</table>\n",
              "</div>"
            ],
            "text/plain": [
              "     A    B  C  D\n",
              "0  foo  one  x  1\n",
              "1  foo  one  y  3\n",
              "2  foo  two  x  2\n",
              "3  bar  two  y  5\n",
              "4  bar  one  x  4\n",
              "5  bar  one  y  1"
            ]
          },
          "metadata": {
            "tags": []
          },
          "execution_count": 102
        }
      ]
    },
    {
      "cell_type": "markdown",
      "metadata": {
        "id": "3ogE4YIAjVfo",
        "colab_type": "text"
      },
      "source": [
        "### Instructions\n",
        "* Use .pivot_table() on the dataframe with index as `A`, values as `D` , columns as `B` and  aggfunc as `np.sum`. Save it as `pivot_df` and print it out"
      ]
    },
    {
      "cell_type": "code",
      "metadata": {
        "scrolled": true,
        "id": "c0Tg7o5_jVfp",
        "colab_type": "code",
        "colab": {
          "base_uri": "https://localhost:8080/",
          "height": 136
        },
        "outputId": "8b7e2fe5-66bd-464e-c552-936ccdc04280"
      },
      "source": [
        "import numpy as np\n",
        "pivot_df = df.pivot_table(\n",
        "                values='D',      # We want to aggregate the values of which column?\n",
        "                index='A',       # We want to use which column as the new index?\n",
        "                columns='B',   # We want to use the values of which column as the new columns? (optional)\n",
        "                aggfunc=np.sum)  # What aggregation function to use ?\n",
        "\n",
        "\n",
        "pivot_df"
      ],
      "execution_count": null,
      "outputs": [
        {
          "output_type": "execute_result",
          "data": {
            "text/html": [
              "<div>\n",
              "<style scoped>\n",
              "    .dataframe tbody tr th:only-of-type {\n",
              "        vertical-align: middle;\n",
              "    }\n",
              "\n",
              "    .dataframe tbody tr th {\n",
              "        vertical-align: top;\n",
              "    }\n",
              "\n",
              "    .dataframe thead th {\n",
              "        text-align: right;\n",
              "    }\n",
              "</style>\n",
              "<table border=\"1\" class=\"dataframe\">\n",
              "  <thead>\n",
              "    <tr style=\"text-align: right;\">\n",
              "      <th>B</th>\n",
              "      <th>one</th>\n",
              "      <th>two</th>\n",
              "    </tr>\n",
              "    <tr>\n",
              "      <th>A</th>\n",
              "      <th></th>\n",
              "      <th></th>\n",
              "    </tr>\n",
              "  </thead>\n",
              "  <tbody>\n",
              "    <tr>\n",
              "      <th>bar</th>\n",
              "      <td>5</td>\n",
              "      <td>5</td>\n",
              "    </tr>\n",
              "    <tr>\n",
              "      <th>foo</th>\n",
              "      <td>4</td>\n",
              "      <td>2</td>\n",
              "    </tr>\n",
              "  </tbody>\n",
              "</table>\n",
              "</div>"
            ],
            "text/plain": [
              "B    one  two\n",
              "A            \n",
              "bar    5    5\n",
              "foo    4    2"
            ]
          },
          "metadata": {
            "tags": []
          },
          "execution_count": 103
        }
      ]
    },
    {
      "cell_type": "markdown",
      "metadata": {
        "ExecuteTime": {
          "end_time": "2017-09-22T12:41:32.876489Z",
          "start_time": "2017-09-22T12:41:32.860307Z"
        },
        "id": "3Vq9jfFxjVfs",
        "colab_type": "text"
      },
      "source": [
        "### Instructions\n",
        "* What is the mean Dew Point temperature recorded by month?\n",
        "* Use .pivot_table() on the dataframe `weather_df` with index as `weather_df.index`, values as `Dew Point Temp (C)` , and  aggfunc as `np.mean`. Save it as `mean_dew_temperature_df` and print it out"
      ]
    },
    {
      "cell_type": "code",
      "metadata": {
        "scrolled": false,
        "id": "3ib66nixjVft",
        "colab_type": "code",
        "colab": {
          "base_uri": "https://localhost:8080/",
          "height": 432
        },
        "outputId": "47d21633-5ae8-4636-88c8-b3a9f638a643"
      },
      "source": [
        "weather_df['Date/Time'] = pd.to_datetime(weather_df['Date/Time'])\n",
        "mean_dew_temperature_df = weather_df.pivot_table(values='Dew Point Temp (C)', index=weather_df['Date/Time'].dt.month, aggfunc=np.mean)\n",
        "mean_dew_temperature_df"
      ],
      "execution_count": null,
      "outputs": [
        {
          "output_type": "execute_result",
          "data": {
            "text/html": [
              "<div>\n",
              "<style scoped>\n",
              "    .dataframe tbody tr th:only-of-type {\n",
              "        vertical-align: middle;\n",
              "    }\n",
              "\n",
              "    .dataframe tbody tr th {\n",
              "        vertical-align: top;\n",
              "    }\n",
              "\n",
              "    .dataframe thead th {\n",
              "        text-align: right;\n",
              "    }\n",
              "</style>\n",
              "<table border=\"1\" class=\"dataframe\">\n",
              "  <thead>\n",
              "    <tr style=\"text-align: right;\">\n",
              "      <th></th>\n",
              "      <th>Dew Point Temp (C)</th>\n",
              "    </tr>\n",
              "    <tr>\n",
              "      <th>Date/Time</th>\n",
              "      <th></th>\n",
              "    </tr>\n",
              "  </thead>\n",
              "  <tbody>\n",
              "    <tr>\n",
              "      <th>1</th>\n",
              "      <td>-12.294758</td>\n",
              "    </tr>\n",
              "    <tr>\n",
              "      <th>2</th>\n",
              "      <td>-9.221695</td>\n",
              "    </tr>\n",
              "    <tr>\n",
              "      <th>3</th>\n",
              "      <td>-3.488575</td>\n",
              "    </tr>\n",
              "    <tr>\n",
              "      <th>4</th>\n",
              "      <td>-1.934583</td>\n",
              "    </tr>\n",
              "    <tr>\n",
              "      <th>5</th>\n",
              "      <td>8.080780</td>\n",
              "    </tr>\n",
              "    <tr>\n",
              "      <th>6</th>\n",
              "      <td>11.738056</td>\n",
              "    </tr>\n",
              "    <tr>\n",
              "      <th>7</th>\n",
              "      <td>14.595430</td>\n",
              "    </tr>\n",
              "    <tr>\n",
              "      <th>8</th>\n",
              "      <td>15.644758</td>\n",
              "    </tr>\n",
              "    <tr>\n",
              "      <th>9</th>\n",
              "      <td>10.757917</td>\n",
              "    </tr>\n",
              "    <tr>\n",
              "      <th>10</th>\n",
              "      <td>6.533468</td>\n",
              "    </tr>\n",
              "    <tr>\n",
              "      <th>11</th>\n",
              "      <td>-4.179306</td>\n",
              "    </tr>\n",
              "    <tr>\n",
              "      <th>12</th>\n",
              "      <td>-6.129032</td>\n",
              "    </tr>\n",
              "  </tbody>\n",
              "</table>\n",
              "</div>"
            ],
            "text/plain": [
              "           Dew Point Temp (C)\n",
              "Date/Time                    \n",
              "1                  -12.294758\n",
              "2                   -9.221695\n",
              "3                   -3.488575\n",
              "4                   -1.934583\n",
              "5                    8.080780\n",
              "6                   11.738056\n",
              "7                   14.595430\n",
              "8                   15.644758\n",
              "9                   10.757917\n",
              "10                   6.533468\n",
              "11                  -4.179306\n",
              "12                  -6.129032"
            ]
          },
          "metadata": {
            "tags": []
          },
          "execution_count": 104
        }
      ]
    },
    {
      "cell_type": "markdown",
      "metadata": {
        "id": "quUEr6UNjVfw",
        "colab_type": "text"
      },
      "source": [
        "<img src=\"../images/icon/Technical-Stuff.png\" alt=\"Concept-Alert\" style=\"width: 100px;float:left; margin-right:15px\"/>\n",
        "<br /> \n",
        "\n",
        "# Group By\n",
        "***\n",
        "The groupby method allows you to group rows of data together and call aggregate functions that applies to the whole group.\n",
        "\n",
        "Any groupby operation involves one of the following operations on the original object. They are −\n",
        "- Splitting the Object\n",
        "- Applying a function\n",
        "- Combining the results\n",
        "\n",
        "In many situations, we split the data into sets and we apply some functionality on each subset. In the apply functionality, we can perform the following operations −\n",
        "\n",
        "- Aggregation − computing a summary statistic\n",
        "- Transformation − perform some group-specific operation\n",
        "- Filtration − discarding the data with some condition"
      ]
    },
    {
      "cell_type": "markdown",
      "metadata": {
        "id": "hzTuRDXJjVfx",
        "colab_type": "text"
      },
      "source": [
        "### Instructions\n",
        "* Use `.groupby()` on `Weather` column  and aggregate the mean values of each column for different types of weather using `.mean()`"
      ]
    },
    {
      "cell_type": "code",
      "metadata": {
        "scrolled": true,
        "id": "MFm37B2fjVfx",
        "colab_type": "code",
        "colab": {
          "base_uri": "https://localhost:8080/",
          "height": 1000
        },
        "outputId": "869a243f-cdb5-45bb-eae1-1f0c822b2372"
      },
      "source": [
        "mean_temperature_df2 = weather_df.groupby(\"Weather\").agg(np.mean)\n",
        "mean_temperature_df2"
      ],
      "execution_count": null,
      "outputs": [
        {
          "output_type": "execute_result",
          "data": {
            "text/html": [
              "<div>\n",
              "<style scoped>\n",
              "    .dataframe tbody tr th:only-of-type {\n",
              "        vertical-align: middle;\n",
              "    }\n",
              "\n",
              "    .dataframe tbody tr th {\n",
              "        vertical-align: top;\n",
              "    }\n",
              "\n",
              "    .dataframe thead th {\n",
              "        text-align: right;\n",
              "    }\n",
              "</style>\n",
              "<table border=\"1\" class=\"dataframe\">\n",
              "  <thead>\n",
              "    <tr style=\"text-align: right;\">\n",
              "      <th></th>\n",
              "      <th>Temp (C)</th>\n",
              "      <th>Dew Point Temp (C)</th>\n",
              "      <th>Rel Hum (%)</th>\n",
              "      <th>Wind Spd (km/h)</th>\n",
              "      <th>Visibility (km)</th>\n",
              "      <th>Stn Press (kPa)</th>\n",
              "    </tr>\n",
              "    <tr>\n",
              "      <th>Weather</th>\n",
              "      <th></th>\n",
              "      <th></th>\n",
              "      <th></th>\n",
              "      <th></th>\n",
              "      <th></th>\n",
              "      <th></th>\n",
              "    </tr>\n",
              "  </thead>\n",
              "  <tbody>\n",
              "    <tr>\n",
              "      <th>Clear</th>\n",
              "      <td>6.825716</td>\n",
              "      <td>0.089367</td>\n",
              "      <td>64.497738</td>\n",
              "      <td>10.557315</td>\n",
              "      <td>30.153243</td>\n",
              "      <td>101.587443</td>\n",
              "    </tr>\n",
              "    <tr>\n",
              "      <th>Cloudy</th>\n",
              "      <td>7.970544</td>\n",
              "      <td>2.375810</td>\n",
              "      <td>69.592593</td>\n",
              "      <td>16.127315</td>\n",
              "      <td>26.625752</td>\n",
              "      <td>100.911441</td>\n",
              "    </tr>\n",
              "    <tr>\n",
              "      <th>Drizzle</th>\n",
              "      <td>7.353659</td>\n",
              "      <td>5.504878</td>\n",
              "      <td>88.243902</td>\n",
              "      <td>16.097561</td>\n",
              "      <td>17.931707</td>\n",
              "      <td>100.435366</td>\n",
              "    </tr>\n",
              "    <tr>\n",
              "      <th>Drizzle,Fog</th>\n",
              "      <td>8.067500</td>\n",
              "      <td>7.033750</td>\n",
              "      <td>93.275000</td>\n",
              "      <td>11.862500</td>\n",
              "      <td>5.257500</td>\n",
              "      <td>100.786625</td>\n",
              "    </tr>\n",
              "    <tr>\n",
              "      <th>Drizzle,Ice Pellets,Fog</th>\n",
              "      <td>0.400000</td>\n",
              "      <td>-0.700000</td>\n",
              "      <td>92.000000</td>\n",
              "      <td>20.000000</td>\n",
              "      <td>4.000000</td>\n",
              "      <td>100.790000</td>\n",
              "    </tr>\n",
              "    <tr>\n",
              "      <th>Drizzle,Snow</th>\n",
              "      <td>1.050000</td>\n",
              "      <td>0.150000</td>\n",
              "      <td>93.500000</td>\n",
              "      <td>14.000000</td>\n",
              "      <td>10.500000</td>\n",
              "      <td>100.890000</td>\n",
              "    </tr>\n",
              "    <tr>\n",
              "      <th>Drizzle,Snow,Fog</th>\n",
              "      <td>0.693333</td>\n",
              "      <td>0.120000</td>\n",
              "      <td>95.866667</td>\n",
              "      <td>15.533333</td>\n",
              "      <td>5.513333</td>\n",
              "      <td>99.281333</td>\n",
              "    </tr>\n",
              "    <tr>\n",
              "      <th>Fog</th>\n",
              "      <td>4.303333</td>\n",
              "      <td>3.159333</td>\n",
              "      <td>92.286667</td>\n",
              "      <td>7.946667</td>\n",
              "      <td>6.248000</td>\n",
              "      <td>101.184067</td>\n",
              "    </tr>\n",
              "    <tr>\n",
              "      <th>Freezing Drizzle</th>\n",
              "      <td>-5.657143</td>\n",
              "      <td>-8.000000</td>\n",
              "      <td>83.571429</td>\n",
              "      <td>16.571429</td>\n",
              "      <td>9.200000</td>\n",
              "      <td>100.202857</td>\n",
              "    </tr>\n",
              "    <tr>\n",
              "      <th>Freezing Drizzle,Fog</th>\n",
              "      <td>-2.533333</td>\n",
              "      <td>-4.183333</td>\n",
              "      <td>88.500000</td>\n",
              "      <td>17.000000</td>\n",
              "      <td>5.266667</td>\n",
              "      <td>100.441667</td>\n",
              "    </tr>\n",
              "    <tr>\n",
              "      <th>Freezing Drizzle,Haze</th>\n",
              "      <td>-5.433333</td>\n",
              "      <td>-8.000000</td>\n",
              "      <td>82.000000</td>\n",
              "      <td>10.333333</td>\n",
              "      <td>2.666667</td>\n",
              "      <td>100.316667</td>\n",
              "    </tr>\n",
              "    <tr>\n",
              "      <th>Freezing Drizzle,Snow</th>\n",
              "      <td>-5.109091</td>\n",
              "      <td>-7.072727</td>\n",
              "      <td>86.090909</td>\n",
              "      <td>16.272727</td>\n",
              "      <td>5.872727</td>\n",
              "      <td>100.520909</td>\n",
              "    </tr>\n",
              "    <tr>\n",
              "      <th>Freezing Fog</th>\n",
              "      <td>-7.575000</td>\n",
              "      <td>-9.250000</td>\n",
              "      <td>87.750000</td>\n",
              "      <td>4.750000</td>\n",
              "      <td>0.650000</td>\n",
              "      <td>102.320000</td>\n",
              "    </tr>\n",
              "    <tr>\n",
              "      <th>Freezing Rain</th>\n",
              "      <td>-3.885714</td>\n",
              "      <td>-6.078571</td>\n",
              "      <td>84.642857</td>\n",
              "      <td>19.214286</td>\n",
              "      <td>8.242857</td>\n",
              "      <td>99.647143</td>\n",
              "    </tr>\n",
              "    <tr>\n",
              "      <th>Freezing Rain,Fog</th>\n",
              "      <td>-2.225000</td>\n",
              "      <td>-3.750000</td>\n",
              "      <td>89.500000</td>\n",
              "      <td>15.500000</td>\n",
              "      <td>7.550000</td>\n",
              "      <td>99.945000</td>\n",
              "    </tr>\n",
              "    <tr>\n",
              "      <th>Freezing Rain,Haze</th>\n",
              "      <td>-4.900000</td>\n",
              "      <td>-7.450000</td>\n",
              "      <td>82.500000</td>\n",
              "      <td>7.500000</td>\n",
              "      <td>2.400000</td>\n",
              "      <td>100.375000</td>\n",
              "    </tr>\n",
              "    <tr>\n",
              "      <th>Freezing Rain,Ice Pellets,Fog</th>\n",
              "      <td>-2.600000</td>\n",
              "      <td>-3.700000</td>\n",
              "      <td>92.000000</td>\n",
              "      <td>28.000000</td>\n",
              "      <td>8.000000</td>\n",
              "      <td>100.950000</td>\n",
              "    </tr>\n",
              "    <tr>\n",
              "      <th>Freezing Rain,Snow Grains</th>\n",
              "      <td>-5.000000</td>\n",
              "      <td>-7.300000</td>\n",
              "      <td>84.000000</td>\n",
              "      <td>32.000000</td>\n",
              "      <td>4.800000</td>\n",
              "      <td>98.560000</td>\n",
              "    </tr>\n",
              "    <tr>\n",
              "      <th>Haze</th>\n",
              "      <td>-0.200000</td>\n",
              "      <td>-2.975000</td>\n",
              "      <td>81.625000</td>\n",
              "      <td>10.437500</td>\n",
              "      <td>7.831250</td>\n",
              "      <td>101.482500</td>\n",
              "    </tr>\n",
              "    <tr>\n",
              "      <th>Mainly Clear</th>\n",
              "      <td>12.558927</td>\n",
              "      <td>4.581671</td>\n",
              "      <td>60.667142</td>\n",
              "      <td>14.144824</td>\n",
              "      <td>34.264862</td>\n",
              "      <td>101.248832</td>\n",
              "    </tr>\n",
              "    <tr>\n",
              "      <th>Moderate Rain,Fog</th>\n",
              "      <td>1.700000</td>\n",
              "      <td>0.800000</td>\n",
              "      <td>94.000000</td>\n",
              "      <td>17.000000</td>\n",
              "      <td>6.400000</td>\n",
              "      <td>99.980000</td>\n",
              "    </tr>\n",
              "    <tr>\n",
              "      <th>Moderate Snow</th>\n",
              "      <td>-5.525000</td>\n",
              "      <td>-7.250000</td>\n",
              "      <td>87.750000</td>\n",
              "      <td>33.750000</td>\n",
              "      <td>0.750000</td>\n",
              "      <td>100.275000</td>\n",
              "    </tr>\n",
              "    <tr>\n",
              "      <th>Moderate Snow,Blowing Snow</th>\n",
              "      <td>-5.450000</td>\n",
              "      <td>-6.500000</td>\n",
              "      <td>92.500000</td>\n",
              "      <td>40.000000</td>\n",
              "      <td>0.600000</td>\n",
              "      <td>100.570000</td>\n",
              "    </tr>\n",
              "    <tr>\n",
              "      <th>Mostly Cloudy</th>\n",
              "      <td>10.574287</td>\n",
              "      <td>3.131174</td>\n",
              "      <td>62.102465</td>\n",
              "      <td>15.813920</td>\n",
              "      <td>31.253842</td>\n",
              "      <td>101.025288</td>\n",
              "    </tr>\n",
              "    <tr>\n",
              "      <th>Rain</th>\n",
              "      <td>9.786275</td>\n",
              "      <td>7.042810</td>\n",
              "      <td>83.624183</td>\n",
              "      <td>19.254902</td>\n",
              "      <td>18.856536</td>\n",
              "      <td>100.233333</td>\n",
              "    </tr>\n",
              "    <tr>\n",
              "      <th>Rain Showers</th>\n",
              "      <td>13.722340</td>\n",
              "      <td>9.187766</td>\n",
              "      <td>75.159574</td>\n",
              "      <td>17.132979</td>\n",
              "      <td>22.816489</td>\n",
              "      <td>100.404043</td>\n",
              "    </tr>\n",
              "    <tr>\n",
              "      <th>Rain Showers,Fog</th>\n",
              "      <td>12.800000</td>\n",
              "      <td>12.100000</td>\n",
              "      <td>96.000000</td>\n",
              "      <td>13.000000</td>\n",
              "      <td>6.400000</td>\n",
              "      <td>99.830000</td>\n",
              "    </tr>\n",
              "    <tr>\n",
              "      <th>Rain Showers,Snow Showers</th>\n",
              "      <td>2.150000</td>\n",
              "      <td>-1.500000</td>\n",
              "      <td>76.500000</td>\n",
              "      <td>22.500000</td>\n",
              "      <td>21.700000</td>\n",
              "      <td>101.100000</td>\n",
              "    </tr>\n",
              "    <tr>\n",
              "      <th>Rain,Fog</th>\n",
              "      <td>8.273276</td>\n",
              "      <td>7.219828</td>\n",
              "      <td>93.189655</td>\n",
              "      <td>14.793103</td>\n",
              "      <td>6.873276</td>\n",
              "      <td>100.500862</td>\n",
              "    </tr>\n",
              "    <tr>\n",
              "      <th>Rain,Haze</th>\n",
              "      <td>4.633333</td>\n",
              "      <td>2.066667</td>\n",
              "      <td>83.333333</td>\n",
              "      <td>11.666667</td>\n",
              "      <td>6.700000</td>\n",
              "      <td>100.540000</td>\n",
              "    </tr>\n",
              "    <tr>\n",
              "      <th>Rain,Ice Pellets</th>\n",
              "      <td>0.600000</td>\n",
              "      <td>-0.600000</td>\n",
              "      <td>92.000000</td>\n",
              "      <td>24.000000</td>\n",
              "      <td>9.700000</td>\n",
              "      <td>100.120000</td>\n",
              "    </tr>\n",
              "    <tr>\n",
              "      <th>Rain,Snow</th>\n",
              "      <td>1.055556</td>\n",
              "      <td>-0.566667</td>\n",
              "      <td>89.000000</td>\n",
              "      <td>28.388889</td>\n",
              "      <td>11.672222</td>\n",
              "      <td>99.951111</td>\n",
              "    </tr>\n",
              "    <tr>\n",
              "      <th>Rain,Snow Grains</th>\n",
              "      <td>1.900000</td>\n",
              "      <td>-2.100000</td>\n",
              "      <td>75.000000</td>\n",
              "      <td>26.000000</td>\n",
              "      <td>25.000000</td>\n",
              "      <td>100.600000</td>\n",
              "    </tr>\n",
              "    <tr>\n",
              "      <th>Rain,Snow,Fog</th>\n",
              "      <td>0.800000</td>\n",
              "      <td>0.300000</td>\n",
              "      <td>96.000000</td>\n",
              "      <td>9.000000</td>\n",
              "      <td>6.400000</td>\n",
              "      <td>100.730000</td>\n",
              "    </tr>\n",
              "    <tr>\n",
              "      <th>Rain,Snow,Ice Pellets</th>\n",
              "      <td>1.100000</td>\n",
              "      <td>-0.175000</td>\n",
              "      <td>91.500000</td>\n",
              "      <td>23.250000</td>\n",
              "      <td>6.000000</td>\n",
              "      <td>100.105000</td>\n",
              "    </tr>\n",
              "    <tr>\n",
              "      <th>Snow</th>\n",
              "      <td>-4.524103</td>\n",
              "      <td>-7.623333</td>\n",
              "      <td>79.307692</td>\n",
              "      <td>20.038462</td>\n",
              "      <td>11.171795</td>\n",
              "      <td>100.536103</td>\n",
              "    </tr>\n",
              "    <tr>\n",
              "      <th>Snow Pellets</th>\n",
              "      <td>0.700000</td>\n",
              "      <td>-6.400000</td>\n",
              "      <td>59.000000</td>\n",
              "      <td>35.000000</td>\n",
              "      <td>2.400000</td>\n",
              "      <td>99.700000</td>\n",
              "    </tr>\n",
              "    <tr>\n",
              "      <th>Snow Showers</th>\n",
              "      <td>-3.506667</td>\n",
              "      <td>-7.866667</td>\n",
              "      <td>72.350000</td>\n",
              "      <td>19.233333</td>\n",
              "      <td>20.158333</td>\n",
              "      <td>100.963500</td>\n",
              "    </tr>\n",
              "    <tr>\n",
              "      <th>Snow Showers,Fog</th>\n",
              "      <td>-10.675000</td>\n",
              "      <td>-11.900000</td>\n",
              "      <td>90.750000</td>\n",
              "      <td>13.750000</td>\n",
              "      <td>7.025000</td>\n",
              "      <td>101.292500</td>\n",
              "    </tr>\n",
              "    <tr>\n",
              "      <th>Snow,Blowing Snow</th>\n",
              "      <td>-5.410526</td>\n",
              "      <td>-7.621053</td>\n",
              "      <td>84.473684</td>\n",
              "      <td>34.842105</td>\n",
              "      <td>4.105263</td>\n",
              "      <td>99.704737</td>\n",
              "    </tr>\n",
              "    <tr>\n",
              "      <th>Snow,Fog</th>\n",
              "      <td>-5.075676</td>\n",
              "      <td>-6.364865</td>\n",
              "      <td>90.675676</td>\n",
              "      <td>17.324324</td>\n",
              "      <td>4.537838</td>\n",
              "      <td>100.688649</td>\n",
              "    </tr>\n",
              "    <tr>\n",
              "      <th>Snow,Haze</th>\n",
              "      <td>-4.020000</td>\n",
              "      <td>-6.860000</td>\n",
              "      <td>80.600000</td>\n",
              "      <td>5.000000</td>\n",
              "      <td>4.640000</td>\n",
              "      <td>100.782000</td>\n",
              "    </tr>\n",
              "    <tr>\n",
              "      <th>Snow,Ice Pellets</th>\n",
              "      <td>-1.883333</td>\n",
              "      <td>-3.666667</td>\n",
              "      <td>87.666667</td>\n",
              "      <td>23.833333</td>\n",
              "      <td>7.416667</td>\n",
              "      <td>100.548333</td>\n",
              "    </tr>\n",
              "    <tr>\n",
              "      <th>Thunderstorms</th>\n",
              "      <td>24.150000</td>\n",
              "      <td>19.750000</td>\n",
              "      <td>77.000000</td>\n",
              "      <td>7.500000</td>\n",
              "      <td>24.550000</td>\n",
              "      <td>100.230000</td>\n",
              "    </tr>\n",
              "    <tr>\n",
              "      <th>Thunderstorms,Heavy Rain Showers</th>\n",
              "      <td>10.900000</td>\n",
              "      <td>9.000000</td>\n",
              "      <td>88.000000</td>\n",
              "      <td>9.000000</td>\n",
              "      <td>2.400000</td>\n",
              "      <td>100.260000</td>\n",
              "    </tr>\n",
              "    <tr>\n",
              "      <th>Thunderstorms,Moderate Rain Showers,Fog</th>\n",
              "      <td>19.600000</td>\n",
              "      <td>18.500000</td>\n",
              "      <td>93.000000</td>\n",
              "      <td>15.000000</td>\n",
              "      <td>3.200000</td>\n",
              "      <td>100.010000</td>\n",
              "    </tr>\n",
              "    <tr>\n",
              "      <th>Thunderstorms,Rain</th>\n",
              "      <td>20.433333</td>\n",
              "      <td>18.533333</td>\n",
              "      <td>89.000000</td>\n",
              "      <td>15.666667</td>\n",
              "      <td>19.833333</td>\n",
              "      <td>100.420000</td>\n",
              "    </tr>\n",
              "    <tr>\n",
              "      <th>Thunderstorms,Rain Showers</th>\n",
              "      <td>20.037500</td>\n",
              "      <td>17.618750</td>\n",
              "      <td>86.375000</td>\n",
              "      <td>18.312500</td>\n",
              "      <td>15.893750</td>\n",
              "      <td>100.233750</td>\n",
              "    </tr>\n",
              "    <tr>\n",
              "      <th>Thunderstorms,Rain Showers,Fog</th>\n",
              "      <td>21.600000</td>\n",
              "      <td>18.700000</td>\n",
              "      <td>84.000000</td>\n",
              "      <td>19.666667</td>\n",
              "      <td>9.700000</td>\n",
              "      <td>100.063333</td>\n",
              "    </tr>\n",
              "    <tr>\n",
              "      <th>Thunderstorms,Rain,Fog</th>\n",
              "      <td>20.600000</td>\n",
              "      <td>18.600000</td>\n",
              "      <td>88.000000</td>\n",
              "      <td>19.000000</td>\n",
              "      <td>4.800000</td>\n",
              "      <td>100.080000</td>\n",
              "    </tr>\n",
              "  </tbody>\n",
              "</table>\n",
              "</div>"
            ],
            "text/plain": [
              "                                          Temp (C)  ...  Stn Press (kPa)\n",
              "Weather                                             ...                 \n",
              "Clear                                     6.825716  ...       101.587443\n",
              "Cloudy                                    7.970544  ...       100.911441\n",
              "Drizzle                                   7.353659  ...       100.435366\n",
              "Drizzle,Fog                               8.067500  ...       100.786625\n",
              "Drizzle,Ice Pellets,Fog                   0.400000  ...       100.790000\n",
              "Drizzle,Snow                              1.050000  ...       100.890000\n",
              "Drizzle,Snow,Fog                          0.693333  ...        99.281333\n",
              "Fog                                       4.303333  ...       101.184067\n",
              "Freezing Drizzle                         -5.657143  ...       100.202857\n",
              "Freezing Drizzle,Fog                     -2.533333  ...       100.441667\n",
              "Freezing Drizzle,Haze                    -5.433333  ...       100.316667\n",
              "Freezing Drizzle,Snow                    -5.109091  ...       100.520909\n",
              "Freezing Fog                             -7.575000  ...       102.320000\n",
              "Freezing Rain                            -3.885714  ...        99.647143\n",
              "Freezing Rain,Fog                        -2.225000  ...        99.945000\n",
              "Freezing Rain,Haze                       -4.900000  ...       100.375000\n",
              "Freezing Rain,Ice Pellets,Fog            -2.600000  ...       100.950000\n",
              "Freezing Rain,Snow Grains                -5.000000  ...        98.560000\n",
              "Haze                                     -0.200000  ...       101.482500\n",
              "Mainly Clear                             12.558927  ...       101.248832\n",
              "Moderate Rain,Fog                         1.700000  ...        99.980000\n",
              "Moderate Snow                            -5.525000  ...       100.275000\n",
              "Moderate Snow,Blowing Snow               -5.450000  ...       100.570000\n",
              "Mostly Cloudy                            10.574287  ...       101.025288\n",
              "Rain                                      9.786275  ...       100.233333\n",
              "Rain Showers                             13.722340  ...       100.404043\n",
              "Rain Showers,Fog                         12.800000  ...        99.830000\n",
              "Rain Showers,Snow Showers                 2.150000  ...       101.100000\n",
              "Rain,Fog                                  8.273276  ...       100.500862\n",
              "Rain,Haze                                 4.633333  ...       100.540000\n",
              "Rain,Ice Pellets                          0.600000  ...       100.120000\n",
              "Rain,Snow                                 1.055556  ...        99.951111\n",
              "Rain,Snow Grains                          1.900000  ...       100.600000\n",
              "Rain,Snow,Fog                             0.800000  ...       100.730000\n",
              "Rain,Snow,Ice Pellets                     1.100000  ...       100.105000\n",
              "Snow                                     -4.524103  ...       100.536103\n",
              "Snow Pellets                              0.700000  ...        99.700000\n",
              "Snow Showers                             -3.506667  ...       100.963500\n",
              "Snow Showers,Fog                        -10.675000  ...       101.292500\n",
              "Snow,Blowing Snow                        -5.410526  ...        99.704737\n",
              "Snow,Fog                                 -5.075676  ...       100.688649\n",
              "Snow,Haze                                -4.020000  ...       100.782000\n",
              "Snow,Ice Pellets                         -1.883333  ...       100.548333\n",
              "Thunderstorms                            24.150000  ...       100.230000\n",
              "Thunderstorms,Heavy Rain Showers         10.900000  ...       100.260000\n",
              "Thunderstorms,Moderate Rain Showers,Fog  19.600000  ...       100.010000\n",
              "Thunderstorms,Rain                       20.433333  ...       100.420000\n",
              "Thunderstorms,Rain Showers               20.037500  ...       100.233750\n",
              "Thunderstorms,Rain Showers,Fog           21.600000  ...       100.063333\n",
              "Thunderstorms,Rain,Fog                   20.600000  ...       100.080000\n",
              "\n",
              "[50 rows x 6 columns]"
            ]
          },
          "metadata": {
            "tags": []
          },
          "execution_count": 105
        }
      ]
    },
    {
      "cell_type": "markdown",
      "metadata": {
        "id": "8mMVBzd5jVf1",
        "colab_type": "text"
      },
      "source": [
        "<img src=\"../images/icon/Technical-Stuff.png\" alt=\"Concept-Alert\" style=\"width: 100px;float:left; margin-right:15px\"/>\n",
        "<br /> \n",
        "\n",
        "# Concat, Merge and Join \n",
        "<br/>\n",
        "\n",
        "***\n",
        "There are 3 key ways of combining DataFrames together:\n",
        "\n",
        "- **Concatenation**: Concatenation glues together DataFrames. Keep in mind that dimensions should match along the axis you are concatenating on <br/><br/>\n",
        "- **Merging**: “Merging” two datasets aligns the rows from each based on common attributes or columns<br/><br/>\n",
        "- **Join**: Join is a convenient method for combining the columns of two potentially differently-indexed DataFrames into a single result DataFrame"
      ]
    },
    {
      "cell_type": "markdown",
      "metadata": {
        "id": "OX25MnhgjVf2",
        "colab_type": "text"
      },
      "source": [
        "## Concat\n",
        "\n",
        "Many a time, we are required to combine different arrays. So, instead of typing each of their elements manually, you can use array concatenation to handle such tasks easily."
      ]
    },
    {
      "cell_type": "code",
      "metadata": {
        "id": "DwRWIFonjVf2",
        "colab_type": "code",
        "colab": {}
      },
      "source": [
        "df1 = pd.DataFrame({\n",
        "    'A': ['A0', 'A1', 'A2', 'A3'],\n",
        "    'B': ['B0', 'B1', 'B2', 'B3'],\n",
        "    'C': ['C0', 'C1', 'C2', 'C3'],\n",
        "    'D': ['D0', 'D1', 'D2', 'D3']\n",
        "}, index=[0, 1, 2, 3])\n",
        "\n",
        "df2 = pd.DataFrame({\n",
        "    'A': ['A4', 'A5', 'A6', 'A7'],\n",
        "    'B': ['B4', 'B5', 'B6', 'B7'],\n",
        "    'C': ['C4', 'C5', 'C6', 'C7'],\n",
        "    'D': ['D4', 'D5', 'D6', 'D7']\n",
        "}, index=[4, 5, 6, 7])\n",
        "\n",
        "df3 = pd.DataFrame({\n",
        "    'A': ['A8', 'A9', 'A10', 'A11'],\n",
        "    'B': ['B8', 'B9', 'B10', 'B11'],\n",
        "    'C': ['C8', 'C9', 'C10', 'C11'],\n",
        "    'E': ['D8', 'D9', 'D10', 'D11']\n",
        "}, index=[8, 9, 10, 11])"
      ],
      "execution_count": null,
      "outputs": []
    },
    {
      "cell_type": "markdown",
      "metadata": {
        "id": "UFTcEQY7jVf6",
        "colab_type": "text"
      },
      "source": [
        "### Instructions\n",
        "* Three dataframes already defined for you\n",
        "* Concat 3 dataframes i.e `df1`,`df2`,`df3` along rows"
      ]
    },
    {
      "cell_type": "code",
      "metadata": {
        "id": "0Qyvd4DFjVf6",
        "colab_type": "code",
        "colab": {
          "base_uri": "https://localhost:8080/",
          "height": 402
        },
        "outputId": "6abce6f1-4c41-41bd-b2f2-fe7a7311ecbc"
      },
      "source": [
        "# if you don't specify an axis, it defaults to axis=0, which means it appends to rows\n",
        "pd.concat([df1, df2, df3])"
      ],
      "execution_count": null,
      "outputs": [
        {
          "output_type": "execute_result",
          "data": {
            "text/html": [
              "<div>\n",
              "<style scoped>\n",
              "    .dataframe tbody tr th:only-of-type {\n",
              "        vertical-align: middle;\n",
              "    }\n",
              "\n",
              "    .dataframe tbody tr th {\n",
              "        vertical-align: top;\n",
              "    }\n",
              "\n",
              "    .dataframe thead th {\n",
              "        text-align: right;\n",
              "    }\n",
              "</style>\n",
              "<table border=\"1\" class=\"dataframe\">\n",
              "  <thead>\n",
              "    <tr style=\"text-align: right;\">\n",
              "      <th></th>\n",
              "      <th>A</th>\n",
              "      <th>B</th>\n",
              "      <th>C</th>\n",
              "      <th>D</th>\n",
              "      <th>E</th>\n",
              "    </tr>\n",
              "  </thead>\n",
              "  <tbody>\n",
              "    <tr>\n",
              "      <th>0</th>\n",
              "      <td>A0</td>\n",
              "      <td>B0</td>\n",
              "      <td>C0</td>\n",
              "      <td>D0</td>\n",
              "      <td>NaN</td>\n",
              "    </tr>\n",
              "    <tr>\n",
              "      <th>1</th>\n",
              "      <td>A1</td>\n",
              "      <td>B1</td>\n",
              "      <td>C1</td>\n",
              "      <td>D1</td>\n",
              "      <td>NaN</td>\n",
              "    </tr>\n",
              "    <tr>\n",
              "      <th>2</th>\n",
              "      <td>A2</td>\n",
              "      <td>B2</td>\n",
              "      <td>C2</td>\n",
              "      <td>D2</td>\n",
              "      <td>NaN</td>\n",
              "    </tr>\n",
              "    <tr>\n",
              "      <th>3</th>\n",
              "      <td>A3</td>\n",
              "      <td>B3</td>\n",
              "      <td>C3</td>\n",
              "      <td>D3</td>\n",
              "      <td>NaN</td>\n",
              "    </tr>\n",
              "    <tr>\n",
              "      <th>4</th>\n",
              "      <td>A4</td>\n",
              "      <td>B4</td>\n",
              "      <td>C4</td>\n",
              "      <td>D4</td>\n",
              "      <td>NaN</td>\n",
              "    </tr>\n",
              "    <tr>\n",
              "      <th>5</th>\n",
              "      <td>A5</td>\n",
              "      <td>B5</td>\n",
              "      <td>C5</td>\n",
              "      <td>D5</td>\n",
              "      <td>NaN</td>\n",
              "    </tr>\n",
              "    <tr>\n",
              "      <th>6</th>\n",
              "      <td>A6</td>\n",
              "      <td>B6</td>\n",
              "      <td>C6</td>\n",
              "      <td>D6</td>\n",
              "      <td>NaN</td>\n",
              "    </tr>\n",
              "    <tr>\n",
              "      <th>7</th>\n",
              "      <td>A7</td>\n",
              "      <td>B7</td>\n",
              "      <td>C7</td>\n",
              "      <td>D7</td>\n",
              "      <td>NaN</td>\n",
              "    </tr>\n",
              "    <tr>\n",
              "      <th>8</th>\n",
              "      <td>A8</td>\n",
              "      <td>B8</td>\n",
              "      <td>C8</td>\n",
              "      <td>NaN</td>\n",
              "      <td>D8</td>\n",
              "    </tr>\n",
              "    <tr>\n",
              "      <th>9</th>\n",
              "      <td>A9</td>\n",
              "      <td>B9</td>\n",
              "      <td>C9</td>\n",
              "      <td>NaN</td>\n",
              "      <td>D9</td>\n",
              "    </tr>\n",
              "    <tr>\n",
              "      <th>10</th>\n",
              "      <td>A10</td>\n",
              "      <td>B10</td>\n",
              "      <td>C10</td>\n",
              "      <td>NaN</td>\n",
              "      <td>D10</td>\n",
              "    </tr>\n",
              "    <tr>\n",
              "      <th>11</th>\n",
              "      <td>A11</td>\n",
              "      <td>B11</td>\n",
              "      <td>C11</td>\n",
              "      <td>NaN</td>\n",
              "      <td>D11</td>\n",
              "    </tr>\n",
              "  </tbody>\n",
              "</table>\n",
              "</div>"
            ],
            "text/plain": [
              "      A    B    C    D    E\n",
              "0    A0   B0   C0   D0  NaN\n",
              "1    A1   B1   C1   D1  NaN\n",
              "2    A2   B2   C2   D2  NaN\n",
              "3    A3   B3   C3   D3  NaN\n",
              "4    A4   B4   C4   D4  NaN\n",
              "5    A5   B5   C5   D5  NaN\n",
              "6    A6   B6   C6   D6  NaN\n",
              "7    A7   B7   C7   D7  NaN\n",
              "8    A8   B8   C8  NaN   D8\n",
              "9    A9   B9   C9  NaN   D9\n",
              "10  A10  B10  C10  NaN  D10\n",
              "11  A11  B11  C11  NaN  D11"
            ]
          },
          "metadata": {
            "tags": []
          },
          "execution_count": 107
        }
      ]
    },
    {
      "cell_type": "markdown",
      "metadata": {
        "id": "VRFgsEk-jVf-",
        "colab_type": "text"
      },
      "source": [
        "### Instructions\n",
        "* Concat 3 dataframes i.e `df1`,`df2`,`df3` along columns"
      ]
    },
    {
      "cell_type": "code",
      "metadata": {
        "id": "f_4-Yp_AjVf_",
        "colab_type": "code",
        "colab": {
          "base_uri": "https://localhost:8080/",
          "height": 402
        },
        "outputId": "d75c7700-54b6-4a9b-dee6-387ba36dcbce"
      },
      "source": [
        "# axis=1 means concat along columns\n",
        "\n",
        "pd.concat([df1, df2, df3], axis=1)"
      ],
      "execution_count": null,
      "outputs": [
        {
          "output_type": "execute_result",
          "data": {
            "text/html": [
              "<div>\n",
              "<style scoped>\n",
              "    .dataframe tbody tr th:only-of-type {\n",
              "        vertical-align: middle;\n",
              "    }\n",
              "\n",
              "    .dataframe tbody tr th {\n",
              "        vertical-align: top;\n",
              "    }\n",
              "\n",
              "    .dataframe thead th {\n",
              "        text-align: right;\n",
              "    }\n",
              "</style>\n",
              "<table border=\"1\" class=\"dataframe\">\n",
              "  <thead>\n",
              "    <tr style=\"text-align: right;\">\n",
              "      <th></th>\n",
              "      <th>A</th>\n",
              "      <th>B</th>\n",
              "      <th>C</th>\n",
              "      <th>D</th>\n",
              "      <th>A</th>\n",
              "      <th>B</th>\n",
              "      <th>C</th>\n",
              "      <th>D</th>\n",
              "      <th>A</th>\n",
              "      <th>B</th>\n",
              "      <th>C</th>\n",
              "      <th>E</th>\n",
              "    </tr>\n",
              "  </thead>\n",
              "  <tbody>\n",
              "    <tr>\n",
              "      <th>0</th>\n",
              "      <td>A0</td>\n",
              "      <td>B0</td>\n",
              "      <td>C0</td>\n",
              "      <td>D0</td>\n",
              "      <td>NaN</td>\n",
              "      <td>NaN</td>\n",
              "      <td>NaN</td>\n",
              "      <td>NaN</td>\n",
              "      <td>NaN</td>\n",
              "      <td>NaN</td>\n",
              "      <td>NaN</td>\n",
              "      <td>NaN</td>\n",
              "    </tr>\n",
              "    <tr>\n",
              "      <th>1</th>\n",
              "      <td>A1</td>\n",
              "      <td>B1</td>\n",
              "      <td>C1</td>\n",
              "      <td>D1</td>\n",
              "      <td>NaN</td>\n",
              "      <td>NaN</td>\n",
              "      <td>NaN</td>\n",
              "      <td>NaN</td>\n",
              "      <td>NaN</td>\n",
              "      <td>NaN</td>\n",
              "      <td>NaN</td>\n",
              "      <td>NaN</td>\n",
              "    </tr>\n",
              "    <tr>\n",
              "      <th>2</th>\n",
              "      <td>A2</td>\n",
              "      <td>B2</td>\n",
              "      <td>C2</td>\n",
              "      <td>D2</td>\n",
              "      <td>NaN</td>\n",
              "      <td>NaN</td>\n",
              "      <td>NaN</td>\n",
              "      <td>NaN</td>\n",
              "      <td>NaN</td>\n",
              "      <td>NaN</td>\n",
              "      <td>NaN</td>\n",
              "      <td>NaN</td>\n",
              "    </tr>\n",
              "    <tr>\n",
              "      <th>3</th>\n",
              "      <td>A3</td>\n",
              "      <td>B3</td>\n",
              "      <td>C3</td>\n",
              "      <td>D3</td>\n",
              "      <td>NaN</td>\n",
              "      <td>NaN</td>\n",
              "      <td>NaN</td>\n",
              "      <td>NaN</td>\n",
              "      <td>NaN</td>\n",
              "      <td>NaN</td>\n",
              "      <td>NaN</td>\n",
              "      <td>NaN</td>\n",
              "    </tr>\n",
              "    <tr>\n",
              "      <th>4</th>\n",
              "      <td>NaN</td>\n",
              "      <td>NaN</td>\n",
              "      <td>NaN</td>\n",
              "      <td>NaN</td>\n",
              "      <td>A4</td>\n",
              "      <td>B4</td>\n",
              "      <td>C4</td>\n",
              "      <td>D4</td>\n",
              "      <td>NaN</td>\n",
              "      <td>NaN</td>\n",
              "      <td>NaN</td>\n",
              "      <td>NaN</td>\n",
              "    </tr>\n",
              "    <tr>\n",
              "      <th>5</th>\n",
              "      <td>NaN</td>\n",
              "      <td>NaN</td>\n",
              "      <td>NaN</td>\n",
              "      <td>NaN</td>\n",
              "      <td>A5</td>\n",
              "      <td>B5</td>\n",
              "      <td>C5</td>\n",
              "      <td>D5</td>\n",
              "      <td>NaN</td>\n",
              "      <td>NaN</td>\n",
              "      <td>NaN</td>\n",
              "      <td>NaN</td>\n",
              "    </tr>\n",
              "    <tr>\n",
              "      <th>6</th>\n",
              "      <td>NaN</td>\n",
              "      <td>NaN</td>\n",
              "      <td>NaN</td>\n",
              "      <td>NaN</td>\n",
              "      <td>A6</td>\n",
              "      <td>B6</td>\n",
              "      <td>C6</td>\n",
              "      <td>D6</td>\n",
              "      <td>NaN</td>\n",
              "      <td>NaN</td>\n",
              "      <td>NaN</td>\n",
              "      <td>NaN</td>\n",
              "    </tr>\n",
              "    <tr>\n",
              "      <th>7</th>\n",
              "      <td>NaN</td>\n",
              "      <td>NaN</td>\n",
              "      <td>NaN</td>\n",
              "      <td>NaN</td>\n",
              "      <td>A7</td>\n",
              "      <td>B7</td>\n",
              "      <td>C7</td>\n",
              "      <td>D7</td>\n",
              "      <td>NaN</td>\n",
              "      <td>NaN</td>\n",
              "      <td>NaN</td>\n",
              "      <td>NaN</td>\n",
              "    </tr>\n",
              "    <tr>\n",
              "      <th>8</th>\n",
              "      <td>NaN</td>\n",
              "      <td>NaN</td>\n",
              "      <td>NaN</td>\n",
              "      <td>NaN</td>\n",
              "      <td>NaN</td>\n",
              "      <td>NaN</td>\n",
              "      <td>NaN</td>\n",
              "      <td>NaN</td>\n",
              "      <td>A8</td>\n",
              "      <td>B8</td>\n",
              "      <td>C8</td>\n",
              "      <td>D8</td>\n",
              "    </tr>\n",
              "    <tr>\n",
              "      <th>9</th>\n",
              "      <td>NaN</td>\n",
              "      <td>NaN</td>\n",
              "      <td>NaN</td>\n",
              "      <td>NaN</td>\n",
              "      <td>NaN</td>\n",
              "      <td>NaN</td>\n",
              "      <td>NaN</td>\n",
              "      <td>NaN</td>\n",
              "      <td>A9</td>\n",
              "      <td>B9</td>\n",
              "      <td>C9</td>\n",
              "      <td>D9</td>\n",
              "    </tr>\n",
              "    <tr>\n",
              "      <th>10</th>\n",
              "      <td>NaN</td>\n",
              "      <td>NaN</td>\n",
              "      <td>NaN</td>\n",
              "      <td>NaN</td>\n",
              "      <td>NaN</td>\n",
              "      <td>NaN</td>\n",
              "      <td>NaN</td>\n",
              "      <td>NaN</td>\n",
              "      <td>A10</td>\n",
              "      <td>B10</td>\n",
              "      <td>C10</td>\n",
              "      <td>D10</td>\n",
              "    </tr>\n",
              "    <tr>\n",
              "      <th>11</th>\n",
              "      <td>NaN</td>\n",
              "      <td>NaN</td>\n",
              "      <td>NaN</td>\n",
              "      <td>NaN</td>\n",
              "      <td>NaN</td>\n",
              "      <td>NaN</td>\n",
              "      <td>NaN</td>\n",
              "      <td>NaN</td>\n",
              "      <td>A11</td>\n",
              "      <td>B11</td>\n",
              "      <td>C11</td>\n",
              "      <td>D11</td>\n",
              "    </tr>\n",
              "  </tbody>\n",
              "</table>\n",
              "</div>"
            ],
            "text/plain": [
              "      A    B    C    D    A    B    C    D    A    B    C    E\n",
              "0    A0   B0   C0   D0  NaN  NaN  NaN  NaN  NaN  NaN  NaN  NaN\n",
              "1    A1   B1   C1   D1  NaN  NaN  NaN  NaN  NaN  NaN  NaN  NaN\n",
              "2    A2   B2   C2   D2  NaN  NaN  NaN  NaN  NaN  NaN  NaN  NaN\n",
              "3    A3   B3   C3   D3  NaN  NaN  NaN  NaN  NaN  NaN  NaN  NaN\n",
              "4   NaN  NaN  NaN  NaN   A4   B4   C4   D4  NaN  NaN  NaN  NaN\n",
              "5   NaN  NaN  NaN  NaN   A5   B5   C5   D5  NaN  NaN  NaN  NaN\n",
              "6   NaN  NaN  NaN  NaN   A6   B6   C6   D6  NaN  NaN  NaN  NaN\n",
              "7   NaN  NaN  NaN  NaN   A7   B7   C7   D7  NaN  NaN  NaN  NaN\n",
              "8   NaN  NaN  NaN  NaN  NaN  NaN  NaN  NaN   A8   B8   C8   D8\n",
              "9   NaN  NaN  NaN  NaN  NaN  NaN  NaN  NaN   A9   B9   C9   D9\n",
              "10  NaN  NaN  NaN  NaN  NaN  NaN  NaN  NaN  A10  B10  C10  D10\n",
              "11  NaN  NaN  NaN  NaN  NaN  NaN  NaN  NaN  A11  B11  C11  D11"
            ]
          },
          "metadata": {
            "tags": []
          },
          "execution_count": 108
        }
      ]
    },
    {
      "cell_type": "markdown",
      "metadata": {
        "id": "_32B1MTJjVgD",
        "colab_type": "text"
      },
      "source": [
        "## Join\n",
        "***\n",
        "Simply join two DFs having potentially different row indices\n",
        "\n",
        "You can do both inner as well as outer joins using the join function in pandas\n",
        "- Parameters {‘inner’, ‘outer’}, default ‘outer’. Outer for union and inner for intersection."
      ]
    },
    {
      "cell_type": "markdown",
      "metadata": {
        "id": "ANhcNII5jVgD",
        "colab_type": "text"
      },
      "source": [
        "### Instructions\n",
        "* Two dataframes i.e `left_df` and `right_df` already defined for you.\n",
        "* Join two dataframes using `.join()` \n",
        "* Since it is an outer join pass `how='outer'` "
      ]
    },
    {
      "cell_type": "code",
      "metadata": {
        "id": "yDRFZ3j4jVgE",
        "colab_type": "code",
        "colab": {
          "base_uri": "https://localhost:8080/",
          "height": 166
        },
        "outputId": "4a7e37ae-75b1-4ef4-c400-bebccf830fa6"
      },
      "source": [
        "# Join\n",
        "left_df = pd.DataFrame({\n",
        "    'A': ['A0', 'A1', 'A2'],\n",
        "    'B': ['B0', 'B1', 'B2']\n",
        "}, index=['K0', 'K1', 'K2']) \n",
        "\n",
        "right_df = pd.DataFrame({\n",
        "    'C': ['C0', 'C2', 'C3'],\n",
        "    'D': ['D0', 'D2', 'D3']\n",
        "}, index=['K0', 'K2', 'K3'])\n",
        "\n",
        "left_df.join(right_df, how='outer')"
      ],
      "execution_count": null,
      "outputs": [
        {
          "output_type": "execute_result",
          "data": {
            "text/html": [
              "<div>\n",
              "<style scoped>\n",
              "    .dataframe tbody tr th:only-of-type {\n",
              "        vertical-align: middle;\n",
              "    }\n",
              "\n",
              "    .dataframe tbody tr th {\n",
              "        vertical-align: top;\n",
              "    }\n",
              "\n",
              "    .dataframe thead th {\n",
              "        text-align: right;\n",
              "    }\n",
              "</style>\n",
              "<table border=\"1\" class=\"dataframe\">\n",
              "  <thead>\n",
              "    <tr style=\"text-align: right;\">\n",
              "      <th></th>\n",
              "      <th>A</th>\n",
              "      <th>B</th>\n",
              "      <th>C</th>\n",
              "      <th>D</th>\n",
              "    </tr>\n",
              "  </thead>\n",
              "  <tbody>\n",
              "    <tr>\n",
              "      <th>K0</th>\n",
              "      <td>A0</td>\n",
              "      <td>B0</td>\n",
              "      <td>C0</td>\n",
              "      <td>D0</td>\n",
              "    </tr>\n",
              "    <tr>\n",
              "      <th>K1</th>\n",
              "      <td>A1</td>\n",
              "      <td>B1</td>\n",
              "      <td>NaN</td>\n",
              "      <td>NaN</td>\n",
              "    </tr>\n",
              "    <tr>\n",
              "      <th>K2</th>\n",
              "      <td>A2</td>\n",
              "      <td>B2</td>\n",
              "      <td>C2</td>\n",
              "      <td>D2</td>\n",
              "    </tr>\n",
              "    <tr>\n",
              "      <th>K3</th>\n",
              "      <td>NaN</td>\n",
              "      <td>NaN</td>\n",
              "      <td>C3</td>\n",
              "      <td>D3</td>\n",
              "    </tr>\n",
              "  </tbody>\n",
              "</table>\n",
              "</div>"
            ],
            "text/plain": [
              "      A    B    C    D\n",
              "K0   A0   B0   C0   D0\n",
              "K1   A1   B1  NaN  NaN\n",
              "K2   A2   B2   C2   D2\n",
              "K3  NaN  NaN   C3   D3"
            ]
          },
          "metadata": {
            "tags": []
          },
          "execution_count": 109
        }
      ]
    },
    {
      "cell_type": "markdown",
      "metadata": {
        "id": "HoM0_QMYjVgH",
        "colab_type": "text"
      },
      "source": [
        "## Merge\n",
        "\n",
        "Many a times you will be working with multiple dataframes all at once.\n",
        "\n",
        "The merge function allows them to be combined into a single data frame"
      ]
    },
    {
      "cell_type": "markdown",
      "metadata": {
        "id": "QBBEaLOSjVgI",
        "colab_type": "text"
      },
      "source": [
        "### Instructions\n",
        "* Two dataframes i.e `left` and `right` is already defined for you.\n",
        "* From the left dataframe i.e. `left` and from the right dataframe i.e `right` you will be taking two columns for merging `key1` and `key2`; so pass them as on=['key1','key2'] inside the .merge() method\n",
        "* Since it is an outer join pass `how='outer'` also"
      ]
    },
    {
      "cell_type": "code",
      "metadata": {
        "id": "j7NX4RmbjVgI",
        "colab_type": "code",
        "colab": {
          "base_uri": "https://localhost:8080/",
          "height": 225
        },
        "outputId": "fa860d6d-0438-4ed3-bbe5-3d4fd4dfd9bc"
      },
      "source": [
        "# Merging on multiple keys\n",
        "left = pd.DataFrame({\n",
        "    'key1': ['K0', 'K0', 'K1', 'K2'],\n",
        "    'key2': ['K0', 'K1', 'K0', 'K1'],\n",
        "    'A': ['A0', 'A1', 'A2', 'A3'],\n",
        "    'B': ['B0', 'B1', 'B2', 'B3']\n",
        "})\n",
        "    \n",
        "right = pd.DataFrame({\n",
        "    'key1': ['K0', 'K1', 'K1', 'K2'],\n",
        "    'key2': ['K0', 'K0', 'K0', 'K0'],\n",
        "    'C': ['C0', 'C1', 'C2', 'C3'],\n",
        "    'D': ['D0', 'D1', 'D2', 'D3']\n",
        "})\n",
        "\n",
        "pd.merge(left, right, how='outer', on=['key1', 'key2'])"
      ],
      "execution_count": null,
      "outputs": [
        {
          "output_type": "execute_result",
          "data": {
            "text/html": [
              "<div>\n",
              "<style scoped>\n",
              "    .dataframe tbody tr th:only-of-type {\n",
              "        vertical-align: middle;\n",
              "    }\n",
              "\n",
              "    .dataframe tbody tr th {\n",
              "        vertical-align: top;\n",
              "    }\n",
              "\n",
              "    .dataframe thead th {\n",
              "        text-align: right;\n",
              "    }\n",
              "</style>\n",
              "<table border=\"1\" class=\"dataframe\">\n",
              "  <thead>\n",
              "    <tr style=\"text-align: right;\">\n",
              "      <th></th>\n",
              "      <th>key1</th>\n",
              "      <th>key2</th>\n",
              "      <th>A</th>\n",
              "      <th>B</th>\n",
              "      <th>C</th>\n",
              "      <th>D</th>\n",
              "    </tr>\n",
              "  </thead>\n",
              "  <tbody>\n",
              "    <tr>\n",
              "      <th>0</th>\n",
              "      <td>K0</td>\n",
              "      <td>K0</td>\n",
              "      <td>A0</td>\n",
              "      <td>B0</td>\n",
              "      <td>C0</td>\n",
              "      <td>D0</td>\n",
              "    </tr>\n",
              "    <tr>\n",
              "      <th>1</th>\n",
              "      <td>K0</td>\n",
              "      <td>K1</td>\n",
              "      <td>A1</td>\n",
              "      <td>B1</td>\n",
              "      <td>NaN</td>\n",
              "      <td>NaN</td>\n",
              "    </tr>\n",
              "    <tr>\n",
              "      <th>2</th>\n",
              "      <td>K1</td>\n",
              "      <td>K0</td>\n",
              "      <td>A2</td>\n",
              "      <td>B2</td>\n",
              "      <td>C1</td>\n",
              "      <td>D1</td>\n",
              "    </tr>\n",
              "    <tr>\n",
              "      <th>3</th>\n",
              "      <td>K1</td>\n",
              "      <td>K0</td>\n",
              "      <td>A2</td>\n",
              "      <td>B2</td>\n",
              "      <td>C2</td>\n",
              "      <td>D2</td>\n",
              "    </tr>\n",
              "    <tr>\n",
              "      <th>4</th>\n",
              "      <td>K2</td>\n",
              "      <td>K1</td>\n",
              "      <td>A3</td>\n",
              "      <td>B3</td>\n",
              "      <td>NaN</td>\n",
              "      <td>NaN</td>\n",
              "    </tr>\n",
              "    <tr>\n",
              "      <th>5</th>\n",
              "      <td>K2</td>\n",
              "      <td>K0</td>\n",
              "      <td>NaN</td>\n",
              "      <td>NaN</td>\n",
              "      <td>C3</td>\n",
              "      <td>D3</td>\n",
              "    </tr>\n",
              "  </tbody>\n",
              "</table>\n",
              "</div>"
            ],
            "text/plain": [
              "  key1 key2    A    B    C    D\n",
              "0   K0   K0   A0   B0   C0   D0\n",
              "1   K0   K1   A1   B1  NaN  NaN\n",
              "2   K1   K0   A2   B2   C1   D1\n",
              "3   K1   K0   A2   B2   C2   D2\n",
              "4   K2   K1   A3   B3  NaN  NaN\n",
              "5   K2   K0  NaN  NaN   C3   D3"
            ]
          },
          "metadata": {
            "tags": []
          },
          "execution_count": 110
        }
      ]
    },
    {
      "cell_type": "code",
      "metadata": {
        "id": "K_hMgAEPjVgM",
        "colab_type": "code",
        "colab": {
          "base_uri": "https://localhost:8080/",
          "height": 195
        },
        "outputId": "e5a4c67c-3177-4a76-8131-bb7c91222348"
      },
      "source": [
        "# other options are 'inner', 'left', 'right'\n",
        "\n",
        "pd.merge(left, right, how='left', on=['key1', 'key2'])"
      ],
      "execution_count": null,
      "outputs": [
        {
          "output_type": "execute_result",
          "data": {
            "text/html": [
              "<div>\n",
              "<style scoped>\n",
              "    .dataframe tbody tr th:only-of-type {\n",
              "        vertical-align: middle;\n",
              "    }\n",
              "\n",
              "    .dataframe tbody tr th {\n",
              "        vertical-align: top;\n",
              "    }\n",
              "\n",
              "    .dataframe thead th {\n",
              "        text-align: right;\n",
              "    }\n",
              "</style>\n",
              "<table border=\"1\" class=\"dataframe\">\n",
              "  <thead>\n",
              "    <tr style=\"text-align: right;\">\n",
              "      <th></th>\n",
              "      <th>key1</th>\n",
              "      <th>key2</th>\n",
              "      <th>A</th>\n",
              "      <th>B</th>\n",
              "      <th>C</th>\n",
              "      <th>D</th>\n",
              "    </tr>\n",
              "  </thead>\n",
              "  <tbody>\n",
              "    <tr>\n",
              "      <th>0</th>\n",
              "      <td>K0</td>\n",
              "      <td>K0</td>\n",
              "      <td>A0</td>\n",
              "      <td>B0</td>\n",
              "      <td>C0</td>\n",
              "      <td>D0</td>\n",
              "    </tr>\n",
              "    <tr>\n",
              "      <th>1</th>\n",
              "      <td>K0</td>\n",
              "      <td>K1</td>\n",
              "      <td>A1</td>\n",
              "      <td>B1</td>\n",
              "      <td>NaN</td>\n",
              "      <td>NaN</td>\n",
              "    </tr>\n",
              "    <tr>\n",
              "      <th>2</th>\n",
              "      <td>K1</td>\n",
              "      <td>K0</td>\n",
              "      <td>A2</td>\n",
              "      <td>B2</td>\n",
              "      <td>C1</td>\n",
              "      <td>D1</td>\n",
              "    </tr>\n",
              "    <tr>\n",
              "      <th>3</th>\n",
              "      <td>K1</td>\n",
              "      <td>K0</td>\n",
              "      <td>A2</td>\n",
              "      <td>B2</td>\n",
              "      <td>C2</td>\n",
              "      <td>D2</td>\n",
              "    </tr>\n",
              "    <tr>\n",
              "      <th>4</th>\n",
              "      <td>K2</td>\n",
              "      <td>K1</td>\n",
              "      <td>A3</td>\n",
              "      <td>B3</td>\n",
              "      <td>NaN</td>\n",
              "      <td>NaN</td>\n",
              "    </tr>\n",
              "  </tbody>\n",
              "</table>\n",
              "</div>"
            ],
            "text/plain": [
              "  key1 key2   A   B    C    D\n",
              "0   K0   K0  A0  B0   C0   D0\n",
              "1   K0   K1  A1  B1  NaN  NaN\n",
              "2   K1   K0  A2  B2   C1   D1\n",
              "3   K1   K0  A2  B2   C2   D2\n",
              "4   K2   K1  A3  B3  NaN  NaN"
            ]
          },
          "metadata": {
            "tags": []
          },
          "execution_count": 111
        }
      ]
    },
    {
      "cell_type": "markdown",
      "metadata": {
        "id": "x6NrP8SejVgQ",
        "colab_type": "text"
      },
      "source": [
        "## Solution for in class activity"
      ]
    },
    {
      "cell_type": "code",
      "metadata": {
        "id": "Tu9psmJpjVgR",
        "colab_type": "code",
        "colab": {
          "base_uri": "https://localhost:8080/",
          "height": 101
        },
        "outputId": "09b8ba76-a38c-47c2-f56b-0a4630c55787"
      },
      "source": [
        "# import the pandas library\n",
        "import pandas as pd\n",
        "\n",
        "ipl_data = {'Team': ['Riders', 'Riders', 'Devils', 'Devils', 'Kings',\n",
        "         'kings', 'Kings', 'Kings', 'Riders', 'Royals', 'Royals', 'Riders'],\n",
        "         'Rank': [1, 2, 2, 3, 3,4 ,1 ,1,2 , 4,1,2],\n",
        "         'Year': [2014,2015,2014,2015,2014,2015,2016,2017,2016,2014,2015,2017],\n",
        "         'Points':[876,789,863,673,741,812,756,788,694,701,804,690]}\n",
        "df = pd.DataFrame(ipl_data)\n",
        "\n",
        "grouped = df.groupby('Year')\n",
        "print(grouped.get_group(2014))"
      ],
      "execution_count": null,
      "outputs": [
        {
          "output_type": "stream",
          "text": [
            "     Team  Rank  Year  Points\n",
            "0  Riders     1  2014     876\n",
            "2  Devils     2  2014     863\n",
            "4   Kings     3  2014     741\n",
            "9  Royals     4  2014     701\n"
          ],
          "name": "stdout"
        }
      ]
    },
    {
      "cell_type": "markdown",
      "metadata": {
        "id": "sDh2P1XGipjK",
        "colab_type": "text"
      },
      "source": [
        "# Bank Market Analysis\n",
        "\n",
        "\n",
        "\n",
        "There has been a revenue decline for the Portuguese bank and they would like to know what actions to take. After investigation, we found out that the root cause is that their clients are not depositing as frequently as before. Knowing that term deposits allow banks to hold onto a deposit for a specific amount of time, so banks can invest in higher gain financial products to make a profit. In addition, banks also hold better chance to persuade term deposit clients into buying other products such as funds or insurance to further increase their revenues. As a result, the Portuguese bank would like to identify existing clients that have higher chance to subscribe for a term deposit and focus marketing effort on such clients. In this code along we are doing the data analysis using the pandas.\n",
        "\n",
        "\n",
        "## Understanding the dataset\n",
        "\n",
        "**Data Set Information**\n",
        "\n",
        "The data is related to direct marketing campaigns of a Portuguese banking institution. The marketing campaigns were based on phone calls. Often, more than one contact to the same client was required, in order to access if the product (bank term deposit) would be ('yes') or not ('no') subscribed.\n",
        "There are four datasets:\n",
        "bank-additional-full.csv with all examples (41188) and 20 inputs, ordered by date (from May 2008 to November 2010), very close to the data analyzed in [Moro et al., 2014]\n",
        "bank-additional.csv with 10% of the examples (4119), randomly selected from 1), and 20 inputs.\n",
        "bank-full.csv with all examples and 17 inputs, ordered by date (older version of this dataset with fewer inputs).\n",
        "bank.csv with 10% of the examples and 17 inputs, randomly selected from 3 (older version of this dataset with fewer inputs). The smallest datasets are provided to test more computationally demanding machine learning algorithms \n",
        "Goal:- The classification goal is to predict if the client will subscribe (yes/no) a term deposit (variable y).\n",
        "\n",
        "**Features**\n",
        "\n",
        "|Feature|Feature_Type|Description|\n",
        "|-----|-----|-----|\n",
        "|age|numeric|age of a person|  \n",
        "|job |Categorigol,nominal|type of job ('admin.','blue-collar','entrepreneur','housemaid','management','retired','self-employed','services','student','technician','unemployed','unknown')|  \n",
        "|marital|categorical,nominal|marital status ('divorced','married','single','unknown'; note: 'divorced' means divorced or widowed)|  \n",
        "|education|categorical,nominal| ('basic.4y','basic.6y','basic.9y','high.school','illiterate','professional.course','university.degree','unknown') | \n",
        "|default|categorical,nominal| has credit in default? ('no','yes','unknown')|  \n",
        "|housing|categorical,nominal| has housing loan? ('no','yes','unknown')|  \n",
        "|loan|categorical,nominal| has personal loan? ('no','yes','unknown')|  \n",
        "|contact|categorical,nominal| contact communication type ('cellular','telephone')|  \n",
        "|month|categorical,ordinal| last contact month of year ('jan', 'feb', 'mar', ..., 'nov', 'dec')| \n",
        "|day_of_week|categorical,ordinal| last contact day of the week ('mon','tue','wed','thu','fri')|  \n",
        "|duration|numeric| last contact duration, in seconds . Important note: this attribute highly affects the output target (e.g., if duration=0 then y='no')|\n",
        "|campaign|numeric|number of contacts performed during this campaign and for this client (includes last contact)|  \n",
        "|pdays|numeric| number of days that passed by after the client was last contacted from a previous campaign (999 means client was not previously contacted)|  \n",
        "|previous|numeric| number of contacts performed before this campaign and for this client|  \n",
        "|poutcome|categorical,nominal| outcome of the previous marketing campaign ('failure','nonexistent','success')|  \n",
        "|emp.var.rate|numeric|employment variation rate - quarterly indicator|  \n",
        "|cons.price.idx|numeric| consumer price index - monthly indicator|  \n",
        "|cons.conf.idx|numeric| consumer confidence index - monthly indicator|  \n",
        "|euribor3m|numeric|euribor 3 month rate - daily indicator|\n",
        "|nr.employed|numeric| number of employees - quarterly indicator|   \n",
        "|y | binary| has the client subscribed a term deposit? ('yes','no')|\n",
        "\n"
      ]
    },
    {
      "cell_type": "markdown",
      "metadata": {
        "id": "C3p17DYXipjN",
        "colab_type": "text"
      },
      "source": [
        "### Read the data"
      ]
    },
    {
      "cell_type": "code",
      "metadata": {
        "id": "483xNj2lipjP",
        "colab_type": "code",
        "colab": {}
      },
      "source": [
        "import numpy as np\n",
        "import pandas as pd"
      ],
      "execution_count": null,
      "outputs": []
    },
    {
      "cell_type": "code",
      "metadata": {
        "id": "2L1sTq55ipjX",
        "colab_type": "code",
        "colab": {}
      },
      "source": [
        "url=\"https://raw.githubusercontent.com/rkkirpane/APT-DATA/master/-Statistics-Part-I-master/bank.csv\"\n",
        "df = pd.read_csv(url,delimiter=';')"
      ],
      "execution_count": null,
      "outputs": []
    },
    {
      "cell_type": "code",
      "metadata": {
        "scrolled": true,
        "id": "y7IoeycTipjd",
        "colab_type": "code",
        "colab": {
          "base_uri": "https://localhost:8080/",
          "height": 195
        },
        "outputId": "3ec1d5c5-3840-4de9-f9c6-9354ff95d93a"
      },
      "source": [
        "df.head()"
      ],
      "execution_count": null,
      "outputs": [
        {
          "output_type": "execute_result",
          "data": {
            "text/html": [
              "<div>\n",
              "<style scoped>\n",
              "    .dataframe tbody tr th:only-of-type {\n",
              "        vertical-align: middle;\n",
              "    }\n",
              "\n",
              "    .dataframe tbody tr th {\n",
              "        vertical-align: top;\n",
              "    }\n",
              "\n",
              "    .dataframe thead th {\n",
              "        text-align: right;\n",
              "    }\n",
              "</style>\n",
              "<table border=\"1\" class=\"dataframe\">\n",
              "  <thead>\n",
              "    <tr style=\"text-align: right;\">\n",
              "      <th></th>\n",
              "      <th>age</th>\n",
              "      <th>job</th>\n",
              "      <th>marital</th>\n",
              "      <th>education</th>\n",
              "      <th>default</th>\n",
              "      <th>balance</th>\n",
              "      <th>housing</th>\n",
              "      <th>loan</th>\n",
              "      <th>contact</th>\n",
              "      <th>day</th>\n",
              "      <th>month</th>\n",
              "      <th>duration</th>\n",
              "      <th>campaign</th>\n",
              "      <th>pdays</th>\n",
              "      <th>previous</th>\n",
              "      <th>poutcome</th>\n",
              "      <th>y</th>\n",
              "    </tr>\n",
              "  </thead>\n",
              "  <tbody>\n",
              "    <tr>\n",
              "      <th>0</th>\n",
              "      <td>30</td>\n",
              "      <td>unemployed</td>\n",
              "      <td>married</td>\n",
              "      <td>primary</td>\n",
              "      <td>no</td>\n",
              "      <td>1787</td>\n",
              "      <td>no</td>\n",
              "      <td>no</td>\n",
              "      <td>cellular</td>\n",
              "      <td>19</td>\n",
              "      <td>oct</td>\n",
              "      <td>79</td>\n",
              "      <td>1</td>\n",
              "      <td>-1</td>\n",
              "      <td>0</td>\n",
              "      <td>unknown</td>\n",
              "      <td>no</td>\n",
              "    </tr>\n",
              "    <tr>\n",
              "      <th>1</th>\n",
              "      <td>33</td>\n",
              "      <td>services</td>\n",
              "      <td>married</td>\n",
              "      <td>secondary</td>\n",
              "      <td>no</td>\n",
              "      <td>4789</td>\n",
              "      <td>yes</td>\n",
              "      <td>yes</td>\n",
              "      <td>cellular</td>\n",
              "      <td>11</td>\n",
              "      <td>may</td>\n",
              "      <td>220</td>\n",
              "      <td>1</td>\n",
              "      <td>339</td>\n",
              "      <td>4</td>\n",
              "      <td>failure</td>\n",
              "      <td>no</td>\n",
              "    </tr>\n",
              "    <tr>\n",
              "      <th>2</th>\n",
              "      <td>35</td>\n",
              "      <td>management</td>\n",
              "      <td>single</td>\n",
              "      <td>tertiary</td>\n",
              "      <td>no</td>\n",
              "      <td>1350</td>\n",
              "      <td>yes</td>\n",
              "      <td>no</td>\n",
              "      <td>cellular</td>\n",
              "      <td>16</td>\n",
              "      <td>apr</td>\n",
              "      <td>185</td>\n",
              "      <td>1</td>\n",
              "      <td>330</td>\n",
              "      <td>1</td>\n",
              "      <td>failure</td>\n",
              "      <td>no</td>\n",
              "    </tr>\n",
              "    <tr>\n",
              "      <th>3</th>\n",
              "      <td>30</td>\n",
              "      <td>management</td>\n",
              "      <td>married</td>\n",
              "      <td>tertiary</td>\n",
              "      <td>no</td>\n",
              "      <td>1476</td>\n",
              "      <td>yes</td>\n",
              "      <td>yes</td>\n",
              "      <td>unknown</td>\n",
              "      <td>3</td>\n",
              "      <td>jun</td>\n",
              "      <td>199</td>\n",
              "      <td>4</td>\n",
              "      <td>-1</td>\n",
              "      <td>0</td>\n",
              "      <td>unknown</td>\n",
              "      <td>no</td>\n",
              "    </tr>\n",
              "    <tr>\n",
              "      <th>4</th>\n",
              "      <td>59</td>\n",
              "      <td>blue-collar</td>\n",
              "      <td>married</td>\n",
              "      <td>secondary</td>\n",
              "      <td>no</td>\n",
              "      <td>0</td>\n",
              "      <td>yes</td>\n",
              "      <td>no</td>\n",
              "      <td>unknown</td>\n",
              "      <td>5</td>\n",
              "      <td>may</td>\n",
              "      <td>226</td>\n",
              "      <td>1</td>\n",
              "      <td>-1</td>\n",
              "      <td>0</td>\n",
              "      <td>unknown</td>\n",
              "      <td>no</td>\n",
              "    </tr>\n",
              "  </tbody>\n",
              "</table>\n",
              "</div>"
            ],
            "text/plain": [
              "   age          job  marital  education  ... pdays  previous poutcome   y\n",
              "0   30   unemployed  married    primary  ...    -1         0  unknown  no\n",
              "1   33     services  married  secondary  ...   339         4  failure  no\n",
              "2   35   management   single   tertiary  ...   330         1  failure  no\n",
              "3   30   management  married   tertiary  ...    -1         0  unknown  no\n",
              "4   59  blue-collar  married  secondary  ...    -1         0  unknown  no\n",
              "\n",
              "[5 rows x 17 columns]"
            ]
          },
          "metadata": {
            "tags": []
          },
          "execution_count": 115
        }
      ]
    },
    {
      "cell_type": "code",
      "metadata": {
        "id": "t-6sk9F_ipjj",
        "colab_type": "code",
        "colab": {
          "base_uri": "https://localhost:8080/",
          "height": 284
        },
        "outputId": "60be2441-8648-4fda-ca09-4a2d738399f0"
      },
      "source": [
        "df.describe()"
      ],
      "execution_count": null,
      "outputs": [
        {
          "output_type": "execute_result",
          "data": {
            "text/html": [
              "<div>\n",
              "<style scoped>\n",
              "    .dataframe tbody tr th:only-of-type {\n",
              "        vertical-align: middle;\n",
              "    }\n",
              "\n",
              "    .dataframe tbody tr th {\n",
              "        vertical-align: top;\n",
              "    }\n",
              "\n",
              "    .dataframe thead th {\n",
              "        text-align: right;\n",
              "    }\n",
              "</style>\n",
              "<table border=\"1\" class=\"dataframe\">\n",
              "  <thead>\n",
              "    <tr style=\"text-align: right;\">\n",
              "      <th></th>\n",
              "      <th>age</th>\n",
              "      <th>balance</th>\n",
              "      <th>day</th>\n",
              "      <th>duration</th>\n",
              "      <th>campaign</th>\n",
              "      <th>pdays</th>\n",
              "      <th>previous</th>\n",
              "    </tr>\n",
              "  </thead>\n",
              "  <tbody>\n",
              "    <tr>\n",
              "      <th>count</th>\n",
              "      <td>4521.000000</td>\n",
              "      <td>4521.000000</td>\n",
              "      <td>4521.000000</td>\n",
              "      <td>4521.000000</td>\n",
              "      <td>4521.000000</td>\n",
              "      <td>4521.000000</td>\n",
              "      <td>4521.000000</td>\n",
              "    </tr>\n",
              "    <tr>\n",
              "      <th>mean</th>\n",
              "      <td>41.170095</td>\n",
              "      <td>1422.657819</td>\n",
              "      <td>15.915284</td>\n",
              "      <td>263.961292</td>\n",
              "      <td>2.793630</td>\n",
              "      <td>39.766645</td>\n",
              "      <td>0.542579</td>\n",
              "    </tr>\n",
              "    <tr>\n",
              "      <th>std</th>\n",
              "      <td>10.576211</td>\n",
              "      <td>3009.638142</td>\n",
              "      <td>8.247667</td>\n",
              "      <td>259.856633</td>\n",
              "      <td>3.109807</td>\n",
              "      <td>100.121124</td>\n",
              "      <td>1.693562</td>\n",
              "    </tr>\n",
              "    <tr>\n",
              "      <th>min</th>\n",
              "      <td>19.000000</td>\n",
              "      <td>-3313.000000</td>\n",
              "      <td>1.000000</td>\n",
              "      <td>4.000000</td>\n",
              "      <td>1.000000</td>\n",
              "      <td>-1.000000</td>\n",
              "      <td>0.000000</td>\n",
              "    </tr>\n",
              "    <tr>\n",
              "      <th>25%</th>\n",
              "      <td>33.000000</td>\n",
              "      <td>69.000000</td>\n",
              "      <td>9.000000</td>\n",
              "      <td>104.000000</td>\n",
              "      <td>1.000000</td>\n",
              "      <td>-1.000000</td>\n",
              "      <td>0.000000</td>\n",
              "    </tr>\n",
              "    <tr>\n",
              "      <th>50%</th>\n",
              "      <td>39.000000</td>\n",
              "      <td>444.000000</td>\n",
              "      <td>16.000000</td>\n",
              "      <td>185.000000</td>\n",
              "      <td>2.000000</td>\n",
              "      <td>-1.000000</td>\n",
              "      <td>0.000000</td>\n",
              "    </tr>\n",
              "    <tr>\n",
              "      <th>75%</th>\n",
              "      <td>49.000000</td>\n",
              "      <td>1480.000000</td>\n",
              "      <td>21.000000</td>\n",
              "      <td>329.000000</td>\n",
              "      <td>3.000000</td>\n",
              "      <td>-1.000000</td>\n",
              "      <td>0.000000</td>\n",
              "    </tr>\n",
              "    <tr>\n",
              "      <th>max</th>\n",
              "      <td>87.000000</td>\n",
              "      <td>71188.000000</td>\n",
              "      <td>31.000000</td>\n",
              "      <td>3025.000000</td>\n",
              "      <td>50.000000</td>\n",
              "      <td>871.000000</td>\n",
              "      <td>25.000000</td>\n",
              "    </tr>\n",
              "  </tbody>\n",
              "</table>\n",
              "</div>"
            ],
            "text/plain": [
              "               age       balance  ...        pdays     previous\n",
              "count  4521.000000   4521.000000  ...  4521.000000  4521.000000\n",
              "mean     41.170095   1422.657819  ...    39.766645     0.542579\n",
              "std      10.576211   3009.638142  ...   100.121124     1.693562\n",
              "min      19.000000  -3313.000000  ...    -1.000000     0.000000\n",
              "25%      33.000000     69.000000  ...    -1.000000     0.000000\n",
              "50%      39.000000    444.000000  ...    -1.000000     0.000000\n",
              "75%      49.000000   1480.000000  ...    -1.000000     0.000000\n",
              "max      87.000000  71188.000000  ...   871.000000    25.000000\n",
              "\n",
              "[8 rows x 7 columns]"
            ]
          },
          "metadata": {
            "tags": []
          },
          "execution_count": 116
        }
      ]
    },
    {
      "cell_type": "markdown",
      "metadata": {
        "id": "4j_QBS2Fipjn",
        "colab_type": "text"
      },
      "source": [
        "### Replace the `unknown` values with the `Nan` and check the value count of missing values and drop the missing rows"
      ]
    },
    {
      "cell_type": "code",
      "metadata": {
        "scrolled": true,
        "id": "d8dTg43_ipjo",
        "colab_type": "code",
        "colab": {
          "base_uri": "https://localhost:8080/",
          "height": 622
        },
        "outputId": "3a606d17-8c46-41b0-b88b-ceeacbd370cf"
      },
      "source": [
        "# replace the unknown words with nan\n",
        "df = df.replace('unknown', np.nan)\n",
        "\n",
        "# check the null values\n",
        "print(df.isnull().sum())\n",
        "\n",
        "# dropna\n",
        "df.dropna(inplace=True)\n",
        "\n",
        "# check the null values\n",
        "print(df.isnull().sum())"
      ],
      "execution_count": null,
      "outputs": [
        {
          "output_type": "stream",
          "text": [
            "age             0\n",
            "job            38\n",
            "marital         0\n",
            "education     187\n",
            "default         0\n",
            "balance         0\n",
            "housing         0\n",
            "loan            0\n",
            "contact      1324\n",
            "day             0\n",
            "month           0\n",
            "duration        0\n",
            "campaign        0\n",
            "pdays           0\n",
            "previous        0\n",
            "poutcome     3705\n",
            "y               0\n",
            "dtype: int64\n",
            "age          0\n",
            "job          0\n",
            "marital      0\n",
            "education    0\n",
            "default      0\n",
            "balance      0\n",
            "housing      0\n",
            "loan         0\n",
            "contact      0\n",
            "day          0\n",
            "month        0\n",
            "duration     0\n",
            "campaign     0\n",
            "pdays        0\n",
            "previous     0\n",
            "poutcome     0\n",
            "y            0\n",
            "dtype: int64\n"
          ],
          "name": "stdout"
        }
      ]
    },
    {
      "cell_type": "markdown",
      "metadata": {
        "id": "6BqGLhKGipjt",
        "colab_type": "text"
      },
      "source": [
        "### Replace the column name from `loan` to `previous_loan_status` and `y` to `loan_status` "
      ]
    },
    {
      "cell_type": "code",
      "metadata": {
        "id": "X4PJgVL3ipjt",
        "colab_type": "code",
        "colab": {
          "base_uri": "https://localhost:8080/",
          "height": 151
        },
        "outputId": "340486c1-68f9-4817-e1f2-a20466a2054b"
      },
      "source": [
        "df.rename(columns={'loan': 'previous_loan_status', 'y': 'loan_status'}, inplace=True)\n",
        "print(df.head())"
      ],
      "execution_count": null,
      "outputs": [
        {
          "output_type": "stream",
          "text": [
            "   age            job  marital  education  ... pdays  previous poutcome loan_status\n",
            "1   33       services  married  secondary  ...   339         4  failure          no\n",
            "2   35     management   single   tertiary  ...   330         1  failure          no\n",
            "5   35     management   single   tertiary  ...   176         3  failure          no\n",
            "6   36  self-employed  married   tertiary  ...   330         2    other          no\n",
            "9   43       services  married    primary  ...   147         2  failure          no\n",
            "\n",
            "[5 rows x 17 columns]\n"
          ],
          "name": "stdout"
        }
      ]
    },
    {
      "cell_type": "markdown",
      "metadata": {
        "id": "loqOy8N-ipjy",
        "colab_type": "text"
      },
      "source": [
        "## Find out the information of the `job` column."
      ]
    },
    {
      "cell_type": "code",
      "metadata": {
        "id": "yRngZnjlipjz",
        "colab_type": "code",
        "colab": {
          "base_uri": "https://localhost:8080/",
          "height": 269
        },
        "outputId": "23c1d576-71a6-44b3-8337-63c03bb27b59"
      },
      "source": [
        "# How many different variants of job are there?\n",
        "print(df['job'].nunique())\n",
        "\n",
        "#Total different types of job\n",
        "print(df['job'].unique())\n",
        "\n",
        "# Counts for different types of `job`\n",
        "print(df['job'].value_counts())\n"
      ],
      "execution_count": null,
      "outputs": [
        {
          "output_type": "stream",
          "text": [
            "11\n",
            "['services' 'management' 'self-employed' 'blue-collar' 'admin.'\n",
            " 'technician' 'unemployed' 'student' 'retired' 'housemaid' 'entrepreneur']\n",
            "management       177\n",
            "blue-collar      143\n",
            "technician       137\n",
            "admin.           102\n",
            "services          58\n",
            "retired           44\n",
            "self-employed     26\n",
            "entrepreneur      21\n",
            "unemployed        20\n",
            "student           19\n",
            "housemaid         17\n",
            "Name: job, dtype: int64\n"
          ],
          "name": "stdout"
        }
      ]
    },
    {
      "cell_type": "markdown",
      "metadata": {
        "id": "b4Y5uQ25ipj4",
        "colab_type": "text"
      },
      "source": [
        "## Check the `loan_status`  approval rate by `job`"
      ]
    },
    {
      "cell_type": "code",
      "metadata": {
        "id": "GS2XlpWDipj4",
        "colab_type": "code",
        "colab": {
          "base_uri": "https://localhost:8080/",
          "height": 420
        },
        "outputId": "6a27af22-e4b0-4516-bf5a-5e49a117cce1"
      },
      "source": [
        "df.groupby('job').loan_status.value_counts(normalize = True)"
      ],
      "execution_count": null,
      "outputs": [
        {
          "output_type": "execute_result",
          "data": {
            "text/plain": [
              "job            loan_status\n",
              "admin.         no             0.754902\n",
              "               yes            0.245098\n",
              "blue-collar    no             0.881119\n",
              "               yes            0.118881\n",
              "entrepreneur   no             0.857143\n",
              "               yes            0.142857\n",
              "housemaid      no             0.705882\n",
              "               yes            0.294118\n",
              "management     no             0.734463\n",
              "               yes            0.265537\n",
              "retired        no             0.681818\n",
              "               yes            0.318182\n",
              "self-employed  no             0.846154\n",
              "               yes            0.153846\n",
              "services       no             0.758621\n",
              "               yes            0.241379\n",
              "student        no             0.578947\n",
              "               yes            0.421053\n",
              "technician     no             0.788321\n",
              "               yes            0.211679\n",
              "unemployed     no             0.750000\n",
              "               yes            0.250000\n",
              "Name: loan_status, dtype: float64"
            ]
          },
          "metadata": {
            "tags": []
          },
          "execution_count": 120
        }
      ]
    },
    {
      "cell_type": "markdown",
      "metadata": {
        "id": "e2eFSdL4ipj9",
        "colab_type": "text"
      },
      "source": [
        "## Check the percentage of loan approved by `education`"
      ]
    },
    {
      "cell_type": "code",
      "metadata": {
        "id": "azJzZGlfipj-",
        "colab_type": "code",
        "colab": {
          "base_uri": "https://localhost:8080/",
          "height": 84
        },
        "outputId": "c7dac349-0520-48de-870c-311811387fd9"
      },
      "source": [
        "df[df['loan_status'] == 'yes']['education'].value_counts(normalize=True)"
      ],
      "execution_count": null,
      "outputs": [
        {
          "output_type": "execute_result",
          "data": {
            "text/plain": [
              "secondary    0.502924\n",
              "tertiary     0.409357\n",
              "primary      0.087719\n",
              "Name: education, dtype: float64"
            ]
          },
          "metadata": {
            "tags": []
          },
          "execution_count": 121
        }
      ]
    },
    {
      "cell_type": "markdown",
      "metadata": {
        "id": "kr_VRZ6AipkC",
        "colab_type": "text"
      },
      "source": [
        "## Check the percentage of loan approved by `previous loan status`"
      ]
    },
    {
      "cell_type": "code",
      "metadata": {
        "id": "G-xftl7LipkD",
        "colab_type": "code",
        "colab": {
          "base_uri": "https://localhost:8080/",
          "height": 67
        },
        "outputId": "3c425d82-f1e3-43e1-b706-e2485a1b4fed"
      },
      "source": [
        "df[df['loan_status'] == 'yes']['previous_loan_status'].value_counts(normalize=True)"
      ],
      "execution_count": null,
      "outputs": [
        {
          "output_type": "execute_result",
          "data": {
            "text/plain": [
              "no     0.929825\n",
              "yes    0.070175\n",
              "Name: previous_loan_status, dtype: float64"
            ]
          },
          "metadata": {
            "tags": []
          },
          "execution_count": 122
        }
      ]
    },
    {
      "cell_type": "markdown",
      "metadata": {
        "id": "F5Hgbh-fipkH",
        "colab_type": "text"
      },
      "source": [
        "## Create a pivot table between `loan_status` and `marital ` with values form `age`"
      ]
    },
    {
      "cell_type": "code",
      "metadata": {
        "id": "61jrgBa7ipkI",
        "colab_type": "code",
        "colab": {
          "base_uri": "https://localhost:8080/",
          "height": 84
        },
        "outputId": "b07e4e47-9920-4bd0-a235-ce38ede491cf"
      },
      "source": [
        "pivot = df.pivot_table(index='loan_status', values='age', columns='marital')\n",
        "print(pivot)"
      ],
      "execution_count": null,
      "outputs": [
        {
          "output_type": "stream",
          "text": [
            "marital       divorced    married     single\n",
            "loan_status                                 \n",
            "no           45.423729  43.416667  33.982759\n",
            "yes          47.809524  46.447917  34.259259\n"
          ],
          "name": "stdout"
        }
      ]
    },
    {
      "cell_type": "markdown",
      "metadata": {
        "id": "LxB1hdyyipkM",
        "colab_type": "text"
      },
      "source": [
        "## Loan status based on marital status whose status is married"
      ]
    },
    {
      "cell_type": "code",
      "metadata": {
        "id": "xESOS019ipkN",
        "colab_type": "code",
        "colab": {
          "base_uri": "https://localhost:8080/",
          "height": 67
        },
        "outputId": "57f69c0a-80d6-423e-dcea-554e1126d15b"
      },
      "source": [
        "loan_stat=df[df['marital'].apply(lambda marital: marital == 'married')]\n",
        "marital_status_summery= loan_stat['loan_status'].value_counts()\n",
        "print (marital_status_summery)\n",
        "\n"
      ],
      "execution_count": null,
      "outputs": [
        {
          "output_type": "stream",
          "text": [
            "no     360\n",
            "yes     96\n",
            "Name: loan_status, dtype: int64\n"
          ],
          "name": "stdout"
        }
      ]
    },
    {
      "cell_type": "markdown",
      "metadata": {
        "id": "eu1fTkrvipkR",
        "colab_type": "text"
      },
      "source": [
        "## Create a  Dataframes\n"
      ]
    },
    {
      "cell_type": "code",
      "metadata": {
        "id": "E5wtybERipkR",
        "colab_type": "code",
        "colab": {
          "base_uri": "https://localhost:8080/",
          "height": 403
        },
        "outputId": "9b986238-891f-4e06-99f1-c2a8c570e47b"
      },
      "source": [
        "# class 1\n",
        "branch_1 = {\n",
        "        'customer_id': ['1', '2', '3', '4', '5'],\n",
        "        'first_name': ['Andrew', 'Alex', 'Sabestian', 'Hilary', 'Jack'], \n",
        "        'last_name': ['Ng', 'Hales', 'Rachaska', 'Masan', 'Anthony']}\n",
        "df_branch_1 = pd.DataFrame(branch_1, columns = ['customer_id', 'first_name', 'last_name'])\n",
        "print(df_branch_1)\n",
        "\n",
        "# class 2\n",
        "branch_2 = {\n",
        "        'customer_id': ['4', '5', '6', '7', '8'],\n",
        "        'first_name': ['Brain', 'Steve', 'Kim', 'Steve', 'Ben'], \n",
        "        'last_name': ['Alexander', 'Jobs', 'Jonas', 'Fleming', 'Richardsan']}\n",
        "df_branch_2 = pd.DataFrame(branch_2, columns = ['customer_id', 'first_name', 'last_name'])\n",
        "print(df_branch_2)\n",
        "\n",
        "# test_score\n",
        "credit_score = {\n",
        "        'customer_id': ['1', '2', '3', '4', '5', '7', '8', '9', '10', '11'],\n",
        "        'score': [513, 675, 165, 961, 1080, 1654, 415, 900, 610, 1116]}\n",
        "df_credit_score = pd.DataFrame(credit_score, columns = ['customer_id','score'])\n",
        "print(df_credit_score)"
      ],
      "execution_count": null,
      "outputs": [
        {
          "output_type": "stream",
          "text": [
            "  customer_id first_name last_name\n",
            "0           1     Andrew        Ng\n",
            "1           2       Alex     Hales\n",
            "2           3  Sabestian  Rachaska\n",
            "3           4     Hilary     Masan\n",
            "4           5       Jack   Anthony\n",
            "  customer_id first_name   last_name\n",
            "0           4      Brain   Alexander\n",
            "1           5      Steve        Jobs\n",
            "2           6        Kim       Jonas\n",
            "3           7      Steve     Fleming\n",
            "4           8        Ben  Richardsan\n",
            "  customer_id  score\n",
            "0           1    513\n",
            "1           2    675\n",
            "2           3    165\n",
            "3           4    961\n",
            "4           5   1080\n",
            "5           7   1654\n",
            "6           8    415\n",
            "7           9    900\n",
            "8          10    610\n",
            "9          11   1116\n"
          ],
          "name": "stdout"
        }
      ]
    },
    {
      "cell_type": "markdown",
      "metadata": {
        "id": "FzjsRpBUipkb",
        "colab_type": "text"
      },
      "source": [
        "## Concatenate the dataframe `df_branch_1` and `df_branch_2` along the rows"
      ]
    },
    {
      "cell_type": "code",
      "metadata": {
        "id": "rTgvU16gipkc",
        "colab_type": "code",
        "colab": {
          "base_uri": "https://localhost:8080/",
          "height": 202
        },
        "outputId": "d929f447-b8a1-4558-9673-d3b02992d4ab"
      },
      "source": [
        "df_new = pd.concat([df_branch_1, df_branch_2])\n",
        "print(df_new)"
      ],
      "execution_count": null,
      "outputs": [
        {
          "output_type": "stream",
          "text": [
            "  customer_id first_name   last_name\n",
            "0           1     Andrew          Ng\n",
            "1           2       Alex       Hales\n",
            "2           3  Sabestian    Rachaska\n",
            "3           4     Hilary       Masan\n",
            "4           5       Jack     Anthony\n",
            "0           4      Brain   Alexander\n",
            "1           5      Steve        Jobs\n",
            "2           6        Kim       Jonas\n",
            "3           7      Steve     Fleming\n",
            "4           8        Ben  Richardsan\n"
          ],
          "name": "stdout"
        }
      ]
    },
    {
      "cell_type": "markdown",
      "metadata": {
        "id": "h2W-2Kv8ipkg",
        "colab_type": "text"
      },
      "source": [
        "## Merge two dataframes `df_new` and `df_credit_score` with both the left and right dataframes using the `customer_id` key\n"
      ]
    },
    {
      "cell_type": "code",
      "metadata": {
        "id": "JJFNA4Lkipkh",
        "colab_type": "code",
        "colab": {
          "base_uri": "https://localhost:8080/",
          "height": 314
        },
        "outputId": "c8d847d0-d24d-458d-f985-4e09f58b5c0b"
      },
      "source": [
        "pd.merge(df_new, df_credit_score, left_on='customer_id', right_on='customer_id')"
      ],
      "execution_count": null,
      "outputs": [
        {
          "output_type": "execute_result",
          "data": {
            "text/html": [
              "<div>\n",
              "<style scoped>\n",
              "    .dataframe tbody tr th:only-of-type {\n",
              "        vertical-align: middle;\n",
              "    }\n",
              "\n",
              "    .dataframe tbody tr th {\n",
              "        vertical-align: top;\n",
              "    }\n",
              "\n",
              "    .dataframe thead th {\n",
              "        text-align: right;\n",
              "    }\n",
              "</style>\n",
              "<table border=\"1\" class=\"dataframe\">\n",
              "  <thead>\n",
              "    <tr style=\"text-align: right;\">\n",
              "      <th></th>\n",
              "      <th>customer_id</th>\n",
              "      <th>first_name</th>\n",
              "      <th>last_name</th>\n",
              "      <th>score</th>\n",
              "    </tr>\n",
              "  </thead>\n",
              "  <tbody>\n",
              "    <tr>\n",
              "      <th>0</th>\n",
              "      <td>1</td>\n",
              "      <td>Andrew</td>\n",
              "      <td>Ng</td>\n",
              "      <td>513</td>\n",
              "    </tr>\n",
              "    <tr>\n",
              "      <th>1</th>\n",
              "      <td>2</td>\n",
              "      <td>Alex</td>\n",
              "      <td>Hales</td>\n",
              "      <td>675</td>\n",
              "    </tr>\n",
              "    <tr>\n",
              "      <th>2</th>\n",
              "      <td>3</td>\n",
              "      <td>Sabestian</td>\n",
              "      <td>Rachaska</td>\n",
              "      <td>165</td>\n",
              "    </tr>\n",
              "    <tr>\n",
              "      <th>3</th>\n",
              "      <td>4</td>\n",
              "      <td>Hilary</td>\n",
              "      <td>Masan</td>\n",
              "      <td>961</td>\n",
              "    </tr>\n",
              "    <tr>\n",
              "      <th>4</th>\n",
              "      <td>4</td>\n",
              "      <td>Brain</td>\n",
              "      <td>Alexander</td>\n",
              "      <td>961</td>\n",
              "    </tr>\n",
              "    <tr>\n",
              "      <th>5</th>\n",
              "      <td>5</td>\n",
              "      <td>Jack</td>\n",
              "      <td>Anthony</td>\n",
              "      <td>1080</td>\n",
              "    </tr>\n",
              "    <tr>\n",
              "      <th>6</th>\n",
              "      <td>5</td>\n",
              "      <td>Steve</td>\n",
              "      <td>Jobs</td>\n",
              "      <td>1080</td>\n",
              "    </tr>\n",
              "    <tr>\n",
              "      <th>7</th>\n",
              "      <td>7</td>\n",
              "      <td>Steve</td>\n",
              "      <td>Fleming</td>\n",
              "      <td>1654</td>\n",
              "    </tr>\n",
              "    <tr>\n",
              "      <th>8</th>\n",
              "      <td>8</td>\n",
              "      <td>Ben</td>\n",
              "      <td>Richardsan</td>\n",
              "      <td>415</td>\n",
              "    </tr>\n",
              "  </tbody>\n",
              "</table>\n",
              "</div>"
            ],
            "text/plain": [
              "  customer_id first_name   last_name  score\n",
              "0           1     Andrew          Ng    513\n",
              "1           2       Alex       Hales    675\n",
              "2           3  Sabestian    Rachaska    165\n",
              "3           4     Hilary       Masan    961\n",
              "4           4      Brain   Alexander    961\n",
              "5           5       Jack     Anthony   1080\n",
              "6           5      Steve        Jobs   1080\n",
              "7           7      Steve     Fleming   1654\n",
              "8           8        Ben  Richardsan    415"
            ]
          },
          "metadata": {
            "tags": []
          },
          "execution_count": 127
        }
      ]
    },
    {
      "cell_type": "code",
      "metadata": {
        "id": "SsxCMLKripkm",
        "colab_type": "code",
        "colab": {}
      },
      "source": [
        ""
      ],
      "execution_count": null,
      "outputs": []
    },
    {
      "cell_type": "code",
      "metadata": {
        "id": "XeJpxqGPipks",
        "colab_type": "code",
        "colab": {}
      },
      "source": [
        ""
      ],
      "execution_count": null,
      "outputs": []
    },
    {
      "cell_type": "code",
      "metadata": {
        "id": "dw8wdU-2JjIa",
        "colab_type": "code",
        "colab": {}
      },
      "source": [
        ""
      ],
      "execution_count": null,
      "outputs": []
    },
    {
      "cell_type": "markdown",
      "metadata": {
        "id": "S4qRpcS5jVgP",
        "colab_type": "text"
      },
      "source": [
        "## Quiz\n",
        "1. Which of the following statements are true regarding the Series and DataFrames?\n",
        "\n",
        "```python\n",
        "1. Series and DataFrames are the 2 key data structures in Pandas.\n",
        "2. Series act like a 1-D labelled/indexed array.\n",
        "3. Series doesn't allow accessing individual elements through labels.\n",
        "4. A data frame is similar to Excel workbook\n",
        "5. Series is a core data model whereas Data frame is a secondary model for Pandas.\n",
        "Ans:- 1,2,4\n",
        "```\n",
        "2. Which are not a valid statements about the accelerated operations support in Pandas?\n",
        "\n",
        "```python\n",
        "1. Pandas library has support for accelerating certain types of binary numerical and boolean operations.\n",
        "2. Pandas library's ability to support accelerated operations is useful for dealing with large data sets and speed improvements.\n",
        "3. It is required to identify missing data in computations.\n",
        "4. It helps in determining the broadcasting behavior between higher (e.g. DataFrame) and lower-dimensional (e.g. Series) objects.\n",
        "Ans:- 3,4\n",
        "```\n",
        "3. Which of the following Python libraries provides support for data munging?\n",
        "\n",
        "```python\n",
        "1.   NumPy\n",
        "2.   Matplotlib\n",
        "3.   Pandas\n",
        "4.   SciPy\n",
        "Ans:- 3\n",
        "```"
      ]
    },
    {
      "cell_type": "markdown",
      "metadata": {
        "id": "fGsEGHHKHJDb",
        "colab_type": "text"
      },
      "source": [
        "# Further Reading\n",
        "***\n",
        "- Pandas documentation: http://pandas.pydata.org/\n",
        "- 10 minutes to pandas: https://pandas.pydata.org/pandas-docs/stable/10min.html\n",
        "- Cookbook- Useful Pandas Recipes: https://pandas.pydata.org/pandas-docs/stable/cookbook.html\n",
        "- Pandas and Python Top 10: http://manishamde.github.io/blog/2013/03/07/pandas-and-python-top-10/\n",
        "- Intro to Pandas Data Structures: http://www.gregreda.com/2013/10/26/"
      ]
    },
    {
      "cell_type": "markdown",
      "metadata": {
        "collapsed": true,
        "id": "Wwvpa0n5HJDc",
        "colab_type": "text"
      },
      "source": [
        "# Thank You\n",
        "***\n",
        "### Coming up next...\n",
        "***\n",
        "- Visualizing data using `matplotlib`\n",
        "\n"
      ]
    }
  ]
}